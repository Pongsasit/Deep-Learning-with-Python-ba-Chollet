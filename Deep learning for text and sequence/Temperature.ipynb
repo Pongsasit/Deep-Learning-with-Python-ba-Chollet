{
 "cells": [
  {
   "cell_type": "code",
   "execution_count": 5,
   "metadata": {},
   "outputs": [],
   "source": [
    "import os\n",
    "data_dir = 'C:/Users/pongsasit/Desktop/code/jena_climate'\n",
    "fname = os.path.join(data_dir,'jena_climate_2009_2016.csv')"
   ]
  },
  {
   "cell_type": "code",
   "execution_count": 6,
   "metadata": {},
   "outputs": [
    {
     "name": "stdout",
     "output_type": "stream",
     "text": [
      "['\"Date Time\"', '\"p (mbar)\"', '\"T (degC)\"', '\"Tpot (K)\"', '\"Tdew (degC)\"', '\"rh (%)\"', '\"VPmax (mbar)\"', '\"VPact (mbar)\"', '\"VPdef (mbar)\"', '\"sh (g/kg)\"', '\"H2OC (mmol/mol)\"', '\"rho (g/m**3)\"', '\"wv (m/s)\"', '\"max. wv (m/s)\"', '\"wd (deg)\"']\n",
      "420551\n"
     ]
    }
   ],
   "source": [
    "f = open(fname)\n",
    "data = f.read()\n",
    "f.close()\n",
    "\n",
    "lines = data.split('\\n')\n",
    "header = lines[0].split(',')\n",
    "lines = lines[1:]\n",
    "\n",
    "print(header)\n",
    "print(len(lines))"
   ]
  },
  {
   "cell_type": "code",
   "execution_count": 7,
   "metadata": {},
   "outputs": [
    {
     "data": {
      "text/html": [
       "<div>\n",
       "<style scoped>\n",
       "    .dataframe tbody tr th:only-of-type {\n",
       "        vertical-align: middle;\n",
       "    }\n",
       "\n",
       "    .dataframe tbody tr th {\n",
       "        vertical-align: top;\n",
       "    }\n",
       "\n",
       "    .dataframe thead th {\n",
       "        text-align: right;\n",
       "    }\n",
       "</style>\n",
       "<table border=\"1\" class=\"dataframe\">\n",
       "  <thead>\n",
       "    <tr style=\"text-align: right;\">\n",
       "      <th></th>\n",
       "      <th>Date Time</th>\n",
       "      <th>p (mbar)</th>\n",
       "      <th>T (degC)</th>\n",
       "      <th>Tpot (K)</th>\n",
       "      <th>Tdew (degC)</th>\n",
       "      <th>rh (%)</th>\n",
       "      <th>VPmax (mbar)</th>\n",
       "      <th>VPact (mbar)</th>\n",
       "      <th>VPdef (mbar)</th>\n",
       "      <th>sh (g/kg)</th>\n",
       "      <th>H2OC (mmol/mol)</th>\n",
       "      <th>rho (g/m**3)</th>\n",
       "      <th>wv (m/s)</th>\n",
       "      <th>max. wv (m/s)</th>\n",
       "      <th>wd (deg)</th>\n",
       "    </tr>\n",
       "  </thead>\n",
       "  <tbody>\n",
       "    <tr>\n",
       "      <th>0</th>\n",
       "      <td>01.01.2009 00:10:00</td>\n",
       "      <td>996.52</td>\n",
       "      <td>-8.02</td>\n",
       "      <td>265.40</td>\n",
       "      <td>-8.90</td>\n",
       "      <td>93.3</td>\n",
       "      <td>3.33</td>\n",
       "      <td>3.11</td>\n",
       "      <td>0.22</td>\n",
       "      <td>1.94</td>\n",
       "      <td>3.12</td>\n",
       "      <td>1307.75</td>\n",
       "      <td>1.03</td>\n",
       "      <td>1.75</td>\n",
       "      <td>152.3</td>\n",
       "    </tr>\n",
       "    <tr>\n",
       "      <th>1</th>\n",
       "      <td>01.01.2009 00:20:00</td>\n",
       "      <td>996.57</td>\n",
       "      <td>-8.41</td>\n",
       "      <td>265.01</td>\n",
       "      <td>-9.28</td>\n",
       "      <td>93.4</td>\n",
       "      <td>3.23</td>\n",
       "      <td>3.02</td>\n",
       "      <td>0.21</td>\n",
       "      <td>1.89</td>\n",
       "      <td>3.03</td>\n",
       "      <td>1309.80</td>\n",
       "      <td>0.72</td>\n",
       "      <td>1.50</td>\n",
       "      <td>136.1</td>\n",
       "    </tr>\n",
       "    <tr>\n",
       "      <th>2</th>\n",
       "      <td>01.01.2009 00:30:00</td>\n",
       "      <td>996.53</td>\n",
       "      <td>-8.51</td>\n",
       "      <td>264.91</td>\n",
       "      <td>-9.31</td>\n",
       "      <td>93.9</td>\n",
       "      <td>3.21</td>\n",
       "      <td>3.01</td>\n",
       "      <td>0.20</td>\n",
       "      <td>1.88</td>\n",
       "      <td>3.02</td>\n",
       "      <td>1310.24</td>\n",
       "      <td>0.19</td>\n",
       "      <td>0.63</td>\n",
       "      <td>171.6</td>\n",
       "    </tr>\n",
       "    <tr>\n",
       "      <th>3</th>\n",
       "      <td>01.01.2009 00:40:00</td>\n",
       "      <td>996.51</td>\n",
       "      <td>-8.31</td>\n",
       "      <td>265.12</td>\n",
       "      <td>-9.07</td>\n",
       "      <td>94.2</td>\n",
       "      <td>3.26</td>\n",
       "      <td>3.07</td>\n",
       "      <td>0.19</td>\n",
       "      <td>1.92</td>\n",
       "      <td>3.08</td>\n",
       "      <td>1309.19</td>\n",
       "      <td>0.34</td>\n",
       "      <td>0.50</td>\n",
       "      <td>198.0</td>\n",
       "    </tr>\n",
       "    <tr>\n",
       "      <th>4</th>\n",
       "      <td>01.01.2009 00:50:00</td>\n",
       "      <td>996.51</td>\n",
       "      <td>-8.27</td>\n",
       "      <td>265.15</td>\n",
       "      <td>-9.04</td>\n",
       "      <td>94.1</td>\n",
       "      <td>3.27</td>\n",
       "      <td>3.08</td>\n",
       "      <td>0.19</td>\n",
       "      <td>1.92</td>\n",
       "      <td>3.09</td>\n",
       "      <td>1309.00</td>\n",
       "      <td>0.32</td>\n",
       "      <td>0.63</td>\n",
       "      <td>214.3</td>\n",
       "    </tr>\n",
       "  </tbody>\n",
       "</table>\n",
       "</div>"
      ],
      "text/plain": [
       "             Date Time  p (mbar)  T (degC)  Tpot (K)  Tdew (degC)  rh (%)  \\\n",
       "0  01.01.2009 00:10:00    996.52     -8.02    265.40        -8.90    93.3   \n",
       "1  01.01.2009 00:20:00    996.57     -8.41    265.01        -9.28    93.4   \n",
       "2  01.01.2009 00:30:00    996.53     -8.51    264.91        -9.31    93.9   \n",
       "3  01.01.2009 00:40:00    996.51     -8.31    265.12        -9.07    94.2   \n",
       "4  01.01.2009 00:50:00    996.51     -8.27    265.15        -9.04    94.1   \n",
       "\n",
       "   VPmax (mbar)  VPact (mbar)  VPdef (mbar)  sh (g/kg)  H2OC (mmol/mol)  \\\n",
       "0          3.33          3.11          0.22       1.94             3.12   \n",
       "1          3.23          3.02          0.21       1.89             3.03   \n",
       "2          3.21          3.01          0.20       1.88             3.02   \n",
       "3          3.26          3.07          0.19       1.92             3.08   \n",
       "4          3.27          3.08          0.19       1.92             3.09   \n",
       "\n",
       "   rho (g/m**3)  wv (m/s)  max. wv (m/s)  wd (deg)  \n",
       "0       1307.75      1.03           1.75     152.3  \n",
       "1       1309.80      0.72           1.50     136.1  \n",
       "2       1310.24      0.19           0.63     171.6  \n",
       "3       1309.19      0.34           0.50     198.0  \n",
       "4       1309.00      0.32           0.63     214.3  "
      ]
     },
     "execution_count": 7,
     "metadata": {},
     "output_type": "execute_result"
    }
   ],
   "source": [
    "#if we use pandas\n",
    "import pandas as pd\n",
    "data = pd.read_csv('C:/Users/pongsasit/Desktop/code/jena_climate/jena_climate_2009_2016.csv')\n",
    "data.head()"
   ]
  },
  {
   "cell_type": "code",
   "execution_count": 9,
   "metadata": {},
   "outputs": [],
   "source": [
    "#parsing the data\n",
    "import numpy as np\n",
    "\n",
    "float_data = np.zeros((len(lines), len(header)-1))\n",
    "for i, line in enumerate(lines):\n",
    "    values = [float(x) for x in line.split(',')[1:]]\n",
    "    float_data[i,:] = values"
   ]
  },
  {
   "cell_type": "code",
   "execution_count": 11,
   "metadata": {},
   "outputs": [
    {
     "data": {
      "text/plain": [
       "[<matplotlib.lines.Line2D at 0x252ef5e0ac8>]"
      ]
     },
     "execution_count": 11,
     "metadata": {},
     "output_type": "execute_result"
    },
    {
     "data": {
      "image/png": "[encoded data removed]",
      "text/plain": [
       "<Figure size 432x288 with 1 Axes>"
      ]
     },
     "metadata": {
      "needs_background": "light"
     },
     "output_type": "display_data"
    }
   ],
   "source": [
    "from matplotlib import pyplot as plt\n",
    "temp = float_data[:,1]\n",
    "plt.plot(range(len(temp)), temp)\n"
   ]
  },
  {
   "cell_type": "code",
   "execution_count": 15,
   "metadata": {},
   "outputs": [
    {
     "data": {
      "text/plain": [
       "[<matplotlib.lines.Line2D at 0x252f72fa240>]"
      ]
     },
     "execution_count": 15,
     "metadata": {},
     "output_type": "execute_result"
    },
    {
     "data": {
      "image/png": "[encoded data removed]",
      "text/plain": [
       "<Figure size 432x288 with 1 Axes>"
      ]
     },
     "metadata": {
      "needs_background": "light"
     },
     "output_type": "display_data"
    }
   ],
   "source": [
    "#data recorded every 10minute\n",
    "#144 data points per day\n",
    "#first 10 days = 1440 points\n",
    "plt.plot(range(1440), temp[:1440])"
   ]
  },
  {
   "cell_type": "code",
   "execution_count": 17,
   "metadata": {},
   "outputs": [],
   "source": [
    "#preparing data\n",
    "#lookback = 720 - Observations will go back 5 days\n",
    "#steps = 6 Observations will be sampled at one data point per hour\n",
    "#delay = 144 Target will be 24 hours in the future\n",
    "#normalizing data\n",
    "\n",
    "mean = float_data[:200000].mean(axis=0)\n",
    "float_data -= mean\n",
    "\n",
    "std = float_data[:200000].std(axis=0)\n",
    "float_data /= std"
   ]
  },
  {
   "cell_type": "code",
   "execution_count": 18,
   "metadata": {},
   "outputs": [],
   "source": [
    "def generator(data_1, lookback, delay, min_index, max_index,\n",
    "             shuffle=False, batch_size=128, step=6):\n",
    "    if max_index is None:\n",
    "        max_index = len(data) - delay - 1\n",
    "    i = min_index + lookback\n",
    "    while 1:\n",
    "        if shuffle:\n",
    "            rows = np.random.randint(\n",
    "            min_index + lookback, max_index, size=batch_size)\n",
    "        else:\n",
    "            if i + batch_size >= max_index:\n",
    "                i = min_index + lookback\n",
    "            rows = np.arange(i, min(i+ batch_size, max_index))\n",
    "            i += len(rows)\n",
    "        samples = np.zeros((len(rows),\n",
    "                           lookback//step,\n",
    "                           data_1.shape[-1]))\n",
    "        targets = np.zeros((len(rows),))\n",
    "        for j, row in enumerate(rows):\n",
    "            indices = range(rows[j] - lookback, rows[j], step)\n",
    "            samples[j] = data_1[indices]\n",
    "            targets[j] = data_1[rows[j] + delay][1]\n",
    "        yield samples, targets"
   ]
  },
  {
   "cell_type": "code",
   "execution_count": 19,
   "metadata": {},
   "outputs": [],
   "source": [
    "#data_1 = original array\n",
    "#lookback = how many timestep that we want to look back\n",
    "#delay = how many timesteps in the future the target should be\n",
    "#min_index max_index indice the data_1 array \n",
    "#shuffle draw data in chronological order\n",
    "#batch_size = the number of samples per batch\n",
    "#step= period"
   ]
  },
  {
   "cell_type": "code",
   "execution_count": 20,
   "metadata": {},
   "outputs": [],
   "source": [
    "lookback = 1440\n",
    "step = 6\n",
    "delay = 144\n",
    "batch_size = 128"
   ]
  },
  {
   "cell_type": "code",
   "execution_count": 24,
   "metadata": {},
   "outputs": [],
   "source": [
    "#train, validation, test\n",
    "train_gen = generator(float_data,lookback=lookback,\n",
    "                     delay=delay,\n",
    "                     min_index=0,\n",
    "                     max_index=200000,\n",
    "                     shuffle=True,\n",
    "                     step=step,\n",
    "                     batch_size= batch_size)\n",
    "val_gen = generator(float_data,\n",
    "                   lookback=lookback,\n",
    "                   delay=delay,\n",
    "                   min_index=200001,\n",
    "                   max_index = 300000,\n",
    "                   step=step,\n",
    "                   batch_size=batch_size)\n",
    "test_gen = generator(float_data,\n",
    "                   lookback=lookback,\n",
    "                   delay=delay,\n",
    "                   min_index=300001,\n",
    "                   max_index = None,\n",
    "                   step=step,\n",
    "                   batch_size=batch_size)\n",
    "\n",
    "val_steps = (300000-200001-lookback) // batch_size\n",
    "test_steps =(len(float_data)-300001-lookback)//batch_size"
   ]
  },
  {
   "cell_type": "code",
   "execution_count": 25,
   "metadata": {},
   "outputs": [
    {
     "name": "stdout",
     "output_type": "stream",
     "text": [
      "0.2897359729905486\n"
     ]
    }
   ],
   "source": [
    "#baseline MAE\n",
    "\n",
    "def evaluate_naive_method():\n",
    "    batch_maes = []\n",
    "    for step in range(val_steps):\n",
    "        samples, targets = next(val_gen)\n",
    "        preds = samples[:,-1,1]\n",
    "        mae = np.mean(np.abs(preds-targets))\n",
    "        batch_maes.append(mae)\n",
    "    print(np.mean(batch_maes))\n",
    "evaluate_naive_method()"
   ]
  },
  {
   "cell_type": "code",
   "execution_count": null,
   "metadata": {},
   "outputs": [],
   "source": [
    "#evaluate_generator = we check the loss not accuracy"
   ]
  },
  {
   "cell_type": "code",
   "execution_count": 26,
   "metadata": {},
   "outputs": [],
   "source": [
    "#convert the MAE back to Celsius error"
   ]
  },
  {
   "cell_type": "code",
   "execution_count": 38,
   "metadata": {},
   "outputs": [
    {
     "data": {
      "text/plain": [
       "2.5672247338393395"
      ]
     },
     "execution_count": 38,
     "metadata": {},
     "output_type": "execute_result"
    }
   ],
   "source": [
    "celsius_mae = 0.29 * std[1]\n",
    "celsius_mae"
   ]
  },
  {
   "cell_type": "code",
   "execution_count": 30,
   "metadata": {},
   "outputs": [
    {
     "name": "stdout",
     "output_type": "stream",
     "text": [
      "WARNING:tensorflow:From C:\\Users\\pongsasit\\Anaconda3\\lib\\site-packages\\tensorflow\\python\\ops\\math_ops.py:3066: to_int32 (from tensorflow.python.ops.math_ops) is deprecated and will be removed in a future version.\n",
      "Instructions for updating:\n",
      "Use tf.cast instead.\n",
      "Epoch 1/20\n",
      "500/500 [==============================] - 17s 35ms/step - loss: 1.6059 - val_loss: 0.7457\n",
      "Epoch 2/20\n",
      "500/500 [==============================] - 17s 34ms/step - loss: 0.5975 - val_loss: 0.3509\n",
      "Epoch 3/20\n",
      "500/500 [==============================] - 17s 34ms/step - loss: 0.3334 - val_loss: 0.3107\n",
      "Epoch 4/20\n",
      "500/500 [==============================] - 17s 34ms/step - loss: 0.2788 - val_loss: 0.3089\n",
      "Epoch 5/20\n",
      "500/500 [==============================] - 17s 34ms/step - loss: 0.2620 - val_loss: 0.2968\n",
      "Epoch 6/20\n",
      "500/500 [==============================] - 17s 34ms/step - loss: 0.2502 - val_loss: 0.3008 - loss: 0.25\n",
      "Epoch 7/20\n",
      "500/500 [==============================] - 17s 34ms/step - loss: 0.2430 - val_loss: 0.3144\n",
      "Epoch 8/20\n",
      "500/500 [==============================] - 17s 34ms/step - loss: 0.2381 - val_loss: 0.3361\n",
      "Epoch 9/20\n",
      "500/500 [==============================] - 17s 34ms/step - loss: 0.2326 - val_loss: 0.3336\n",
      "Epoch 10/20\n",
      "500/500 [==============================] - 17s 34ms/step - loss: 0.2271 - val_loss: 0.3186\n",
      "Epoch 11/20\n",
      "500/500 [==============================] - 17s 34ms/step - loss: 0.2237 - val_loss: 0.3317\n",
      "Epoch 12/20\n",
      "500/500 [==============================] - 17s 34ms/step - loss: 0.2197 - val_loss: 0.3350\n",
      "Epoch 13/20\n",
      "500/500 [==============================] - 18s 35ms/step - loss: 0.2166 - val_loss: 0.3251\n",
      "Epoch 14/20\n",
      "500/500 [==============================] - 17s 35ms/step - loss: 0.2132 - val_loss: 0.3206\n",
      "Epoch 15/20\n",
      "500/500 [==============================] - 17s 34ms/step - loss: 0.2099 - val_loss: 0.3211\n",
      "Epoch 16/20\n",
      "500/500 [==============================] - 18s 36ms/step - loss: 0.2086 - val_loss: 0.3503\n",
      "Epoch 17/20\n",
      "500/500 [==============================] - 18s 35ms/step - loss: 0.2057 - val_loss: 0.3223\n",
      "Epoch 18/20\n",
      "500/500 [==============================] - 17s 35ms/step - loss: 0.2049 - val_loss: 0.3334\n",
      "Epoch 19/20\n",
      "500/500 [==============================] - 18s 35ms/step - loss: 0.2029 - val_loss: 0.3299\n",
      "Epoch 20/20\n",
      "500/500 [==============================] - 17s 35ms/step - loss: 0.2012 - val_loss: 0.3333\n"
     ]
    }
   ],
   "source": [
    "#easy model densely connected model\n",
    "\n",
    "from keras.models import Sequential\n",
    "from keras import layers\n",
    "from keras.optimizers import RMSprop\n",
    "\n",
    "model = Sequential()\n",
    "model.add(layers.Flatten(input_shape = (lookback// step, float_data.shape[-1])))\n",
    "model.add(layers.Dense(32, activation = 'relu'))\n",
    "model.add(layers.Dense(1))\n",
    "\n",
    "model.compile(optimizer=RMSprop(), loss='mae')\n",
    "\n",
    "history = model.fit_generator(train_gen,\n",
    "                             steps_per_epoch=500,\n",
    "                             epochs=20,\n",
    "                             validation_data = val_gen,\n",
    "                             validation_steps=val_steps)\n"
   ]
  },
  {
   "cell_type": "code",
   "execution_count": 31,
   "metadata": {},
   "outputs": [
    {
     "data": {
      "image/png": "[encoded data removed]",
      "text/plain": [
       "<Figure size 432x288 with 1 Axes>"
      ]
     },
     "metadata": {
      "needs_background": "light"
     },
     "output_type": "display_data"
    }
   ],
   "source": [
    "import matplotlib.pyplot as plt\n",
    "loss = history.history['loss']\n",
    "val_loss = history.history['val_loss']\n",
    "\n",
    "epochs = range(1, len(loss) +1)\n",
    "\n",
    "plt.figure()\n",
    "\n",
    "plt.plot(epochs, loss, 'bo', label='Training loss')\n",
    "plt.plot(epochs, val_loss,'b',label='Validation loss')\n",
    "plt.title('Training and Validation loss')\n",
    "plt.legend()\n",
    "\n",
    "plt.show()"
   ]
  },
  {
   "cell_type": "code",
   "execution_count": 42,
   "metadata": {},
   "outputs": [
    {
     "data": {
      "text/plain": [
       "1.3470850026335126"
      ]
     },
     "execution_count": 42,
     "metadata": {},
     "output_type": "execute_result"
    }
   ],
   "source": [
    "model.evaluate_generator(test_gen,steps=test_steps)"
   ]
  },
  {
   "cell_type": "code",
   "execution_count": 33,
   "metadata": {},
   "outputs": [
    {
     "name": "stdout",
     "output_type": "stream",
     "text": [
      "Epoch 1/20\n",
      "500/500 [==============================] - 140s 280ms/step - loss: 0.3110 - val_loss: 0.2733\n",
      "Epoch 2/20\n",
      "500/500 [==============================] - 139s 279ms/step - loss: 0.2853 - val_loss: 0.2696\n",
      "Epoch 3/20\n",
      "500/500 [==============================] - 139s 279ms/step - loss: 0.2777 - val_loss: 0.2657\n",
      "Epoch 4/20\n",
      "500/500 [==============================] - 139s 277ms/step - loss: 0.2744 - val_loss: 0.2685\n",
      "Epoch 5/20\n",
      "500/500 [==============================] - 138s 276ms/step - loss: 0.2683 - val_loss: 0.2664\n",
      "Epoch 6/20\n",
      "500/500 [==============================] - 138s 276ms/step - loss: 0.2647 - val_loss: 0.2702\n",
      "Epoch 7/20\n",
      "500/500 [==============================] - 138s 277ms/step - loss: 0.2601 - val_loss: 0.2757\n",
      "Epoch 8/20\n",
      "500/500 [==============================] - 138s 277ms/step - loss: 0.2561 - val_loss: 0.2775\n",
      "Epoch 9/20\n",
      "500/500 [==============================] - 139s 277ms/step - loss: 0.2526 - val_loss: 0.2740\n",
      "Epoch 10/20\n",
      "500/500 [==============================] - 140s 279ms/step - loss: 0.2479 - val_loss: 0.2788\n",
      "Epoch 11/20\n",
      "500/500 [==============================] - 139s 279ms/step - loss: 0.2425 - val_loss: 0.2775\n",
      "Epoch 12/20\n",
      "500/500 [==============================] - 139s 279ms/step - loss: 0.2401 - val_loss: 0.2801\n",
      "Epoch 13/20\n",
      "500/500 [==============================] - 139s 278ms/step - loss: 0.2374 - val_loss: 0.2812\n",
      "Epoch 14/20\n",
      "500/500 [==============================] - 141s 281ms/step - loss: 0.2330 - val_loss: 0.2885\n",
      "Epoch 15/20\n",
      "500/500 [==============================] - 139s 278ms/step - loss: 0.2302 - val_loss: 0.2919\n",
      "Epoch 16/20\n",
      "500/500 [==============================] - 139s 278ms/step - loss: 0.2253 - val_loss: 0.2930\n",
      "Epoch 17/20\n",
      "500/500 [==============================] - 137s 275ms/step - loss: 0.2207 - val_loss: 0.3017\n",
      "Epoch 19/20\n",
      "500/500 [==============================] - 137s 275ms/step - loss: 0.2166 - val_loss: 0.3026\n",
      "Epoch 20/20\n",
      "500/500 [==============================] - 137s 275ms/step - loss: 0.2137 - val_loss: 0.3002\n"
     ]
    }
   ],
   "source": [
    "#use GRU instead of easy Neural Network\n",
    "from keras.models import Sequential\n",
    "from keras import layers\n",
    "from keras.optimizers import RMSprop\n",
    "\n",
    "model_gru = Sequential()\n",
    "model_gru.add(layers.GRU(32,input_shape = (None, float_data.shape[-1])))\n",
    "model_gru.add(layers.Dense(1))\n",
    "\n",
    "model_gru.compile(optimizer=RMSprop(), loss='mae')\n",
    "\n",
    "history = model_gru.fit_generator(train_gen,\n",
    "                             steps_per_epoch=500,\n",
    "                             epochs=20,\n",
    "                             validation_data = val_gen,\n",
    "                             validation_steps=val_steps)"
   ]
  },
  {
   "cell_type": "code",
   "execution_count": 34,
   "metadata": {},
   "outputs": [
    {
     "data": {
      "image/png": "[encoded data removed]",
      "text/plain": [
       "<Figure size 432x288 with 1 Axes>"
      ]
     },
     "metadata": {
      "needs_background": "light"
     },
     "output_type": "display_data"
    }
   ],
   "source": [
    "import matplotlib.pyplot as plt\n",
    "loss = history.history['loss']\n",
    "val_loss = history.history['val_loss']\n",
    "\n",
    "epochs = range(1, len(loss) +1)\n",
    "\n",
    "plt.figure()\n",
    "\n",
    "plt.plot(epochs, loss, 'bo', label='Training loss')\n",
    "plt.plot(epochs, val_loss,'b',label='Validation loss')\n",
    "plt.title('Training and Validation loss')\n",
    "plt.legend()\n",
    "\n",
    "plt.show()\n",
    "\n",
    "#new Val mae is around 0.65 around 2.35degC"
   ]
  },
  {
   "cell_type": "code",
   "execution_count": 43,
   "metadata": {},
   "outputs": [
    {
     "data": {
      "text/plain": [
       "0.31408840906155366"
      ]
     },
     "execution_count": 43,
     "metadata": {},
     "output_type": "execute_result"
    }
   ],
   "source": [
    "model_gru.evaluate_generator(test_gen,steps=test_steps)"
   ]
  },
  {
   "cell_type": "code",
   "execution_count": 36,
   "metadata": {},
   "outputs": [
    {
     "name": "stdout",
     "output_type": "stream",
     "text": [
      "Epoch 1/40\n",
      "500/500 [==============================] - 151s 302ms/step - loss: 0.3329 - val_loss: 0.2759\n",
      "Epoch 2/40\n",
      "500/500 [==============================] - 148s 297ms/step - loss: 0.3151 - val_loss: 0.2745\n",
      "Epoch 3/40\n",
      "500/500 [==============================] - 149s 297ms/step - loss: 0.3107 - val_loss: 0.2696\n",
      "Epoch 4/40\n",
      "500/500 [==============================] - 148s 297ms/step - loss: 0.3068 - val_loss: 0.2713\n",
      "Epoch 5/40\n",
      "500/500 [==============================] - 148s 297ms/step - loss: 0.3029 - val_loss: 0.2700\n",
      "Epoch 6/40\n",
      "500/500 [==============================] - 149s 297ms/step - loss: 0.2995 - val_loss: 0.2688\n",
      "Epoch 7/40\n",
      "500/500 [==============================] - 148s 297ms/step - loss: 0.2978 - val_loss: 0.2673\n",
      "Epoch 8/40\n",
      "500/500 [==============================] - 149s 297ms/step - loss: 0.2977 - val_loss: 0.2656\n",
      "Epoch 9/40\n",
      "500/500 [==============================] - 149s 297ms/step - loss: 0.2942 - val_loss: 0.2656\n",
      "Epoch 10/40\n",
      "500/500 [==============================] - 149s 298ms/step - loss: 0.2920 - val_loss: 0.2650\n",
      "Epoch 11/40\n",
      "500/500 [==============================] - 149s 297ms/step - loss: 0.2914 - val_loss: 0.2654\n",
      "Epoch 12/40\n",
      "500/500 [==============================] - 149s 297ms/step - loss: 0.2898 - val_loss: 0.2646\n",
      "Epoch 13/40\n",
      "500/500 [==============================] - 149s 297ms/step - loss: 0.2876 - val_loss: 0.2648\n",
      "Epoch 14/40\n",
      "500/500 [==============================] - 149s 297ms/step - loss: 0.2870 - val_loss: 0.2661\n",
      "Epoch 15/40\n",
      "500/500 [==============================] - 149s 297ms/step - loss: 0.2863 - val_loss: 0.2677\n",
      "Epoch 16/40\n",
      "500/500 [==============================] - 149s 297ms/step - loss: 0.2867 - val_loss: 0.2649\n",
      "Epoch 17/40\n",
      "500/500 [==============================] - 149s 297ms/step - loss: 0.2849 - val_loss: 0.2630\n",
      "Epoch 18/40\n",
      "500/500 [==============================] - 149s 298ms/step - loss: 0.2835 - val_loss: 0.2685\n",
      "Epoch 19/40\n",
      "500/500 [==============================] - 149s 297ms/step - loss: 0.2821 - val_loss: 0.2687\n",
      "Epoch 20/40\n",
      "500/500 [==============================] - 149s 298ms/step - loss: 0.2807 - val_loss: 0.2669\n",
      "Epoch 21/40\n",
      "500/500 [==============================] - 149s 298ms/step - loss: 0.2807 - val_loss: 0.2640\n",
      "Epoch 22/40\n",
      "500/500 [==============================] - 149s 298ms/step - loss: 0.2804 - val_loss: 0.2658\n",
      "Epoch 23/40\n",
      "500/500 [==============================] - 149s 298ms/step - loss: 0.2781 - val_loss: 0.2629\n",
      "Epoch 24/40\n",
      "500/500 [==============================] - 149s 298ms/step - loss: 0.2787 - val_loss: 0.2703\n",
      "Epoch 25/40\n",
      "500/500 [==============================] - 150s 300ms/step - loss: 0.2784 - val_loss: 0.2684\n",
      "Epoch 26/40\n",
      "500/500 [==============================] - 150s 300ms/step - loss: 0.2759 - val_loss: 0.2689\n",
      "Epoch 27/40\n",
      "500/500 [==============================] - 149s 298ms/step - loss: 0.2753 - val_loss: 0.2677\n",
      "Epoch 28/40\n",
      "500/500 [==============================] - 149s 298ms/step - loss: 0.2769 - val_loss: 0.2665\n",
      "Epoch 29/40\n",
      "500/500 [==============================] - 149s 298ms/step - loss: 0.2755 - val_loss: 0.2675\n",
      "Epoch 30/40\n",
      "500/500 [==============================] - 147s 295ms/step - loss: 0.2750 - val_loss: 0.2633\n",
      "Epoch 31/40\n",
      "500/500 [==============================] - 148s 295ms/step - loss: 0.2731 - val_loss: 0.2657\n",
      "Epoch 32/40\n",
      "500/500 [==============================] - 147s 295ms/step - loss: 0.2728 - val_loss: 0.2645\n",
      "Epoch 33/40\n",
      "500/500 [==============================] - 147s 295ms/step - loss: 0.2727 - val_loss: 0.2630\n",
      "Epoch 34/40\n",
      "500/500 [==============================] - 147s 295ms/step - loss: 0.2745 - val_loss: 0.2688\n",
      "Epoch 35/40\n",
      "500/500 [==============================] - 148s 295ms/step - loss: 0.2729 - val_loss: 0.2659\n",
      "Epoch 36/40\n",
      "500/500 [==============================] - 147s 295ms/step - loss: 0.2732 - val_loss: 0.2685\n",
      "Epoch 37/40\n",
      "500/500 [==============================] - 147s 295ms/step - loss: 0.2729 - val_loss: 0.2788\n",
      "Epoch 38/40\n",
      "500/500 [==============================] - 147s 295ms/step - loss: 0.2725 - val_loss: 0.2689\n",
      "Epoch 39/40\n",
      "500/500 [==============================] - 147s 295ms/step - loss: 0.2721 - val_loss: 0.2696\n",
      "Epoch 40/40\n",
      "500/500 [==============================] - 147s 295ms/step - loss: 0.2699 - val_loss: 0.2650\n"
     ]
    }
   ],
   "source": [
    "#to fight overfitting\n",
    "#training and evaluating a dropout-regularized GRU-based model\n",
    "from keras.models import Sequential\n",
    "from keras import layers\n",
    "from keras.optimizers import RMSprop\n",
    "\n",
    "model_do = Sequential()\n",
    "model_do.add(layers.GRU(32,\n",
    "                    dropout=0.2,\n",
    "                     recurrent_dropout=0.2,\n",
    "                     input_shape=(None, float_data.shape[-1])))\n",
    "model_do.add(layers.Dense(1))\n",
    "model_do.compile(optimizer=RMSprop(),loss='mae')\n",
    "\n",
    "history_do = model_do.fit_generator(train_gen,\n",
    "                             steps_per_epoch=500,\n",
    "                             epochs=40,\n",
    "                             validation_data=val_gen,\n",
    "                             validation_steps=val_steps)\n"
   ]
  },
  {
   "cell_type": "code",
   "execution_count": 37,
   "metadata": {},
   "outputs": [
    {
     "data": {
      "image/png": "[encoded data removed]",
      "text/plain": [
       "<Figure size 432x288 with 1 Axes>"
      ]
     },
     "metadata": {
      "needs_background": "light"
     },
     "output_type": "display_data"
    }
   ],
   "source": [
    "import matplotlib.pyplot as plt\n",
    "loss = history_do.history['loss']\n",
    "val_loss = history_do.history['val_loss']\n",
    "\n",
    "epochs = range(1, len(loss) +1)\n",
    "\n",
    "plt.figure()\n",
    "\n",
    "plt.plot(epochs, loss, 'bo', label='Training loss')\n",
    "plt.plot(epochs, val_loss,'b',label='Validation loss')\n",
    "plt.title('Training and Validation loss')\n",
    "plt.legend()\n",
    "\n",
    "plt.show()"
   ]
  },
  {
   "cell_type": "code",
   "execution_count": 44,
   "metadata": {},
   "outputs": [
    {
     "data": {
      "text/plain": [
       "0.27891711671586317"
      ]
     },
     "execution_count": 44,
     "metadata": {},
     "output_type": "execute_result"
    }
   ],
   "source": [
    "model_do.evaluate_generator(test_gen,steps=test_steps)"
   ]
  },
  {
   "cell_type": "code",
   "execution_count": 48,
   "metadata": {},
   "outputs": [
    {
     "name": "stdout",
     "output_type": "stream",
     "text": [
      "Epoch 1/40\n",
      "500/500 [==============================] - 340s 681ms/step - loss: 0.3349 - val_loss: 0.2826\n",
      "500/500 [==============================] - 333s 666ms/step - loss: 0.3151 - val_loss: 0.2731\n",
      "Epoch 3/40\n",
      "500/500 [==============================] - 335s 669ms/step - loss: 0.3072 - val_loss: 0.2796\n",
      "Epoch 4/40\n",
      "500/500 [==============================] - 335s 669ms/step - loss: 0.3013 - val_loss: 0.2674\n",
      "Epoch 5/40\n",
      "500/500 [==============================] - 339s 678ms/step - loss: 0.2994 - val_loss: 0.2680\n",
      "500/500 [==============================] - 343s 685ms/step - loss: 0.2966 - val_loss: 0.2682\n",
      "Epoch 7/40\n",
      "500/500 [==============================] - 345s 690ms/step - loss: 0.2931 - val_loss: 0.2647\n",
      "Epoch 8/40\n",
      "500/500 [==============================] - 339s 677ms/step - loss: 0.2906 - val_loss: 0.2660\n",
      "Epoch 9/40\n",
      "500/500 [==============================] - 334s 668ms/step - loss: 0.2876 - val_loss: 0.2606\n",
      "Epoch 10/40\n",
      "500/500 [==============================] - 334s 667ms/step - loss: 0.2851 - val_loss: 0.2610\n",
      "Epoch 11/40\n",
      "500/500 [==============================] - 334s 668ms/step - loss: 0.2803 - val_loss: 0.2682\n",
      "Epoch 12/40\n",
      "500/500 [==============================] - 334s 668ms/step - loss: 0.2787 - val_loss: 0.2628\n",
      "Epoch 13/40\n",
      "500/500 [==============================] - 334s 669ms/step - loss: 0.2782 - val_loss: 0.2645\n",
      "Epoch 14/40\n",
      "500/500 [==============================] - 334s 668ms/step - loss: 0.2750 - val_loss: 0.2633\n",
      "Epoch 15/40\n",
      "500/500 [==============================] - 334s 668ms/step - loss: 0.2740 - val_loss: 0.2604\n",
      "Epoch 16/40\n",
      "500/500 [==============================] - 334s 668ms/step - loss: 0.2714 - val_loss: 0.2647\n",
      "Epoch 17/40\n",
      "500/500 [==============================] - 334s 668ms/step - loss: 0.2703 - val_loss: 0.2642\n",
      "Epoch 18/40\n",
      "500/500 [==============================] - 334s 669ms/step - loss: 0.2694 - val_loss: 0.2662\n",
      "Epoch 19/40\n",
      "500/500 [==============================] - 335s 669ms/step - loss: 0.2686 - val_loss: 0.2736\n",
      "Epoch 20/40\n",
      "500/500 [==============================] - 334s 668ms/step - loss: 0.2674 - val_loss: 0.2630\n",
      "Epoch 21/40\n",
      "500/500 [==============================] - 334s 669ms/step - loss: 0.2645 - val_loss: 0.2703\n",
      "Epoch 22/40\n",
      "500/500 [==============================] - 335s 670ms/step - loss: 0.2658 - val_loss: 0.2655\n",
      "Epoch 23/40\n",
      "500/500 [==============================] - 334s 668ms/step - loss: 0.2638 - val_loss: 0.2687\n",
      "Epoch 24/40\n",
      "500/500 [==============================] - 334s 669ms/step - loss: 0.2618 - val_loss: 0.2671\n",
      "Epoch 25/40\n",
      "500/500 [==============================] - 334s 668ms/step - loss: 0.2611 - val_loss: 0.2761\n",
      "Epoch 26/40\n",
      "500/500 [==============================] - 335s 670ms/step - loss: 0.2619 - val_loss: 0.2676\n",
      "Epoch 27/40\n",
      "500/500 [==============================] - 335s 670ms/step - loss: 0.2619 - val_loss: 0.2714\n",
      "Epoch 28/40\n",
      "500/500 [==============================] - 334s 669ms/step - loss: 0.2595 - val_loss: 0.2703\n",
      "Epoch 29/40\n",
      "500/500 [==============================] - 335s 670ms/step - loss: 0.2591 - val_loss: 0.2784\n",
      "Epoch 30/40\n",
      "500/500 [==============================] - 335s 670ms/step - loss: 0.2589 - val_loss: 0.2739\n",
      "Epoch 31/40\n",
      "500/500 [==============================] - 339s 679ms/step - loss: 0.2576 - val_loss: 0.2772\n",
      "Epoch 32/40\n",
      "500/500 [==============================] - 348s 696ms/step - loss: 0.2573 - val_loss: 0.2821\n",
      "Epoch 33/40\n",
      "500/500 [==============================] - 348s 697ms/step - loss: 0.2569 - val_loss: 0.2804\n",
      "500/500 [==============================] - 343s 686ms/step - loss: 0.2539 - val_loss: 0.2686\n",
      "Epoch 35/40\n",
      "500/500 [==============================] - 335s 670ms/step - loss: 0.2539 - val_loss: 0.2808\n",
      "Epoch 36/40\n",
      "500/500 [==============================] - 335s 670ms/step - loss: 0.2537 - val_loss: 0.2789\n",
      "Epoch 37/40\n",
      "500/500 [==============================] - 335s 670ms/step - loss: 0.2538 - val_loss: 0.2805\n",
      "Epoch 38/40\n",
      "500/500 [==============================] - 335s 670ms/step - loss: 0.2541 - val_loss: 0.2836\n",
      "Epoch 39/40\n",
      "500/500 [==============================] - 335s 670ms/step - loss: 0.2529 - val_loss: 0.2734\n",
      "Epoch 40/40\n",
      "500/500 [==============================] - 336s 671ms/step - loss: 0.2527 - val_loss: 0.2778\n"
     ]
    }
   ],
   "source": [
    "#increase capacity of the network\n",
    "#Recurrent layer stacking\n",
    "#all intermediate layers return their full sequence of outputs\n",
    "from keras.models import Sequential\n",
    "from keras import layers\n",
    "from keras.optimizers import RMSprop\n",
    "\n",
    "model_rls = Sequential()\n",
    "model_rls.add(layers.GRU(32,\n",
    "                       dropout=0.1,\n",
    "                       recurrent_dropout=0.5,\n",
    "                       return_sequences=True,\n",
    "                       input_shape=(None, float_data.shape[-1])))\n",
    "model_rls.add(layers.GRU(64, activation='relu',\n",
    "                        dropout=0.1,\n",
    "                        recurrent_dropout=0.5))\n",
    "model_rls.add(layers.Dense(1))\n",
    "\n",
    "model_rls.compile(optimizer=RMSprop(),loss='mae')\n",
    "history_rls=model_rls.fit_generator(train_gen,\n",
    "                                   steps_per_epoch=500,\n",
    "                                   epochs=40,\n",
    "                                   validation_data=val_gen,\n",
    "                                   validation_steps=val_steps)\n"
   ]
  },
  {
   "cell_type": "code",
   "execution_count": 50,
   "metadata": {},
   "outputs": [
    {
     "data": {
      "image/png": "[encoded data removed]",
      "text/plain": [
       "<Figure size 432x288 with 1 Axes>"
      ]
     },
     "metadata": {
      "needs_background": "light"
     },
     "output_type": "display_data"
    }
   ],
   "source": [
    "import matplotlib.pyplot as plt\n",
    "loss = history_rls.history['loss']\n",
    "val_loss = history_rls.history['val_loss']\n",
    "\n",
    "epochs = range(1, len(loss) +1)\n",
    "\n",
    "plt.figure()\n",
    "\n",
    "plt.plot(epochs, loss, 'bo', label='Training loss')\n",
    "plt.plot(epochs, val_loss,'b',label='Validation loss')\n",
    "plt.title('Training and Validation loss')\n",
    "plt.legend()\n",
    "\n",
    "plt.show()"
   ]
  },
  {
   "cell_type": "code",
   "execution_count": 51,
   "metadata": {},
   "outputs": [
    {
     "data": {
      "text/plain": [
       "0.2879747460405993"
      ]
     },
     "execution_count": 51,
     "metadata": {},
     "output_type": "execute_result"
    }
   ],
   "source": [
    "model_rls.evaluate_generator(test_gen,steps=test_steps)"
   ]
  },
  {
   "cell_type": "code",
   "execution_count": 52,
   "metadata": {},
   "outputs": [],
   "source": [
    "#bidirectional rNN with GRU\n",
    "def generator(data_1, lookback, delay, min_index, max_index,\n",
    "             shuffle=False, batch_size=128, step=6):\n",
    "    if max_index is None:\n",
    "        max_index = len(data) - delay - 1\n",
    "    i = min_index + lookback\n",
    "    while 1:\n",
    "        if shuffle:\n",
    "            rows = np.random.randint(\n",
    "            min_index + lookback, max_index, size=batch_size)\n",
    "        else:\n",
    "            if i + batch_size >= max_index:\n",
    "                i = min_index + lookback\n",
    "            rows = np.arange(i, min(i+ batch_size, max_index))\n",
    "            i += len(rows)\n",
    "        samples = np.zeros((len(rows),\n",
    "                           lookback//step,\n",
    "                           data_1.shape[-1]))\n",
    "        targets = np.zeros((len(rows),))\n",
    "        for j, row in enumerate(rows):\n",
    "            indices = range(rows[j] - lookback, rows[j], step)\n",
    "            samples[j] = data_1[indices]\n",
    "            targets[j] = data_1[rows[j] + delay][1]\n",
    "        yield samples[:, ::-1, :], targets\n",
    "\n",
    "        "
   ]
  },
  {
   "cell_type": "code",
   "execution_count": 57,
   "metadata": {},
   "outputs": [
    {
     "name": "stdout",
     "output_type": "stream",
     "text": [
      "Epoch 1/40\n",
      "500/500 [==============================] - 337s 675ms/step - loss: 0.3326 - val_loss: 0.2768\n",
      "Epoch 2/40\n",
      "500/500 [==============================] - 333s 666ms/step - loss: 0.3114 - val_loss: 0.2758\n",
      "Epoch 3/40\n",
      "500/500 [==============================] - 335s 670ms/step - loss: 0.3067 - val_loss: 0.2747\n",
      "Epoch 4/40\n",
      "500/500 [==============================] - 334s 669ms/step - loss: 0.3022 - val_loss: 0.2723\n",
      "Epoch 5/40\n",
      "500/500 [==============================] - 334s 669ms/step - loss: 0.2989 - val_loss: 0.2724\n",
      "Epoch 6/40\n",
      "500/500 [==============================] - 337s 673ms/step - loss: 0.2957 - val_loss: 0.2669\n",
      "Epoch 7/40\n",
      "500/500 [==============================] - 334s 668ms/step - loss: 0.2929 - val_loss: 0.2644\n",
      "Epoch 8/40\n",
      "500/500 [==============================] - 336s 671ms/step - loss: 0.2878 - val_loss: 0.2625\n",
      "Epoch 9/40\n",
      "500/500 [==============================] - 334s 667ms/step - loss: 0.2849 - val_loss: 0.2647\n",
      "Epoch 10/40\n",
      "500/500 [==============================] - 330s 660ms/step - loss: 0.2840 - val_loss: 0.2656\n",
      "Epoch 11/40\n",
      "500/500 [==============================] - 330s 660ms/step - loss: 0.2828 - val_loss: 0.2671\n",
      "Epoch 12/40\n",
      "500/500 [==============================] - 330s 660ms/step - loss: 0.2796 - val_loss: 0.2729\n",
      "Epoch 13/40\n",
      "500/500 [==============================] - 330s 660ms/step - loss: 0.2800 - val_loss: 0.2781\n",
      "Epoch 14/40\n",
      "500/500 [==============================] - 330s 660ms/step - loss: 0.2765 - val_loss: 0.2655\n",
      "Epoch 15/40\n",
      "500/500 [==============================] - 330s 660ms/step - loss: 0.2759 - val_loss: 0.2665\n",
      "Epoch 16/40\n",
      "500/500 [==============================] - 330s 660ms/step - loss: 0.2742 - val_loss: 0.2685\n",
      "Epoch 17/40\n",
      "500/500 [==============================] - 330s 660ms/step - loss: 0.2727 - val_loss: 0.2638\n",
      "Epoch 18/40\n",
      "500/500 [==============================] - 330s 661ms/step - loss: 0.2711 - val_loss: 0.2662\n",
      "Epoch 19/40\n",
      "500/500 [==============================] - 330s 660ms/step - loss: 0.2693 - val_loss: 0.2673\n",
      "Epoch 20/40\n",
      "500/500 [==============================] - 330s 660ms/step - loss: 0.2691 - val_loss: 0.2643\n",
      "Epoch 21/40\n",
      "500/500 [==============================] - 330s 661ms/step - loss: 0.2681 - val_loss: 0.2639\n",
      "Epoch 22/40\n",
      "500/500 [==============================] - 330s 660ms/step - loss: 0.2673 - val_loss: 0.2620\n",
      "Epoch 23/40\n",
      "500/500 [==============================] - 330s 661ms/step - loss: 0.2655 - val_loss: 0.2735\n",
      "Epoch 24/40\n",
      "500/500 [==============================] - 330s 661ms/step - loss: 0.2651 - val_loss: 0.2767\n",
      "Epoch 25/40\n",
      "500/500 [==============================] - 330s 660ms/step - loss: 0.2645 - val_loss: 0.2653\n",
      "Epoch 26/40\n",
      "500/500 [==============================] - 330s 661ms/step - loss: 0.2627 - val_loss: 0.2699\n",
      "Epoch 27/40\n",
      "500/500 [==============================] - 337s 674ms/step - loss: 0.2630 - val_loss: 0.2638\n",
      "Epoch 28/40\n",
      "500/500 [==============================] - 688s 1s/step - loss: 0.2612 - val_loss: 0.2663\n",
      "Epoch 29/40\n",
      "500/500 [==============================] - 673s 1s/step - loss: 0.2601 - val_loss: 0.2637\n",
      "Epoch 30/40\n",
      "500/500 [==============================] - 330s 661ms/step - loss: 0.2602 - val_loss: 0.2718\n",
      "Epoch 31/40\n",
      "500/500 [==============================] - 330s 661ms/step - loss: 0.2597 - val_loss: 0.2826\n",
      "Epoch 32/40\n",
      "500/500 [==============================] - 330s 660ms/step - loss: 0.2583 - val_loss: 0.2684\n",
      "Epoch 33/40\n",
      "500/500 [==============================] - 330s 661ms/step - loss: 0.2593 - val_loss: 0.2750\n",
      "Epoch 34/40\n",
      "500/500 [==============================] - 330s 661ms/step - loss: 0.2566 - val_loss: 0.2633\n",
      "Epoch 35/40\n",
      "500/500 [==============================] - 331s 662ms/step - loss: 0.2568 - val_loss: 0.2671\n",
      "Epoch 36/40\n",
      "500/500 [==============================] - 331s 662ms/step - loss: 0.2565 - val_loss: 0.2710\n",
      "Epoch 37/40\n",
      "500/500 [==============================] - 330s 660ms/step - loss: 0.2535 - val_loss: 0.2715\n",
      "Epoch 38/40\n",
      "500/500 [==============================] - 330s 661ms/step - loss: 0.2541 - val_loss: 0.2758\n",
      "Epoch 39/40\n",
      "500/500 [==============================] - 330s 661ms/step - loss: 0.2536 - val_loss: 0.2669\n",
      "Epoch 40/40\n",
      "500/500 [==============================] - 330s 661ms/step - loss: 0.2528 - val_loss: 0.2712\n"
     ]
    }
   ],
   "source": [
    "from keras.models import Sequential\n",
    "from keras import layers\n",
    "from keras.optimizers import RMSprop\n",
    "\n",
    "model_ro = Sequential()\n",
    "model_ro.add(layers.GRU(32,\n",
    "                       dropout=0.1,\n",
    "                       recurrent_dropout=0.5,\n",
    "                       return_sequences=True,\n",
    "                       input_shape=(None, float_data.shape[-1])))\n",
    "model_ro.add(layers.GRU(64, activation='relu',\n",
    "                        dropout=0.1,\n",
    "                        recurrent_dropout=0.5))\n",
    "model_ro.add(layers.Dense(1))\n",
    "\n",
    "model_ro.compile(optimizer=RMSprop(),loss='mae')\n",
    "history_ro=model_ro.fit_generator(train_gen,\n",
    "                                   steps_per_epoch=500,\n",
    "                                   epochs=40,\n",
    "                                   validation_data=val_gen,\n",
    "                                   validation_steps=val_steps)\n"
   ]
  },
  {
   "cell_type": "code",
   "execution_count": 58,
   "metadata": {},
   "outputs": [
    {
     "data": {
      "image/png": "[encoded data removed]",
      "text/plain": [
       "<Figure size 432x288 with 1 Axes>"
      ]
     },
     "metadata": {
      "needs_background": "light"
     },
     "output_type": "display_data"
    }
   ],
   "source": [
    "import matplotlib.pyplot as plt\n",
    "loss = history_ro.history['loss']\n",
    "val_loss = history_ro.history['val_loss']\n",
    "\n",
    "epochs = range(1, len(loss) +1)\n",
    "\n",
    "plt.figure()\n",
    "\n",
    "plt.plot(epochs, loss, 'bo', label='Training loss')\n",
    "plt.plot(epochs, val_loss,'b',label='Validation loss')\n",
    "plt.title('Training and Validation loss')\n",
    "plt.legend()\n",
    "\n",
    "plt.show()"
   ]
  },
  {
   "cell_type": "code",
   "execution_count": 59,
   "metadata": {},
   "outputs": [
    {
     "data": {
      "text/plain": [
       "0.28439216124274397"
      ]
     },
     "execution_count": 59,
     "metadata": {},
     "output_type": "execute_result"
    }
   ],
   "source": [
    "#reversed order GRU \n",
    "model_ro.evaluate_generator(test_gen,steps=test_steps)"
   ]
  },
  {
   "cell_type": "code",
   "execution_count": 60,
   "metadata": {},
   "outputs": [
    {
     "name": "stdout",
     "output_type": "stream",
     "text": [
      "Epoch 1/40\n",
      "500/500 [==============================] - 183s 365ms/step - loss: 0.2933 - val_loss: 0.2738\n",
      "Epoch 2/40\n",
      "500/500 [==============================] - 179s 359ms/step - loss: 0.2734 - val_loss: 0.2655\n",
      "Epoch 3/40\n",
      "500/500 [==============================] - 179s 358ms/step - loss: 0.2694 - val_loss: 0.2628\n",
      "Epoch 4/40\n",
      "500/500 [==============================] - 179s 358ms/step - loss: 0.2630 - val_loss: 0.2672\n",
      "Epoch 5/40\n",
      "500/500 [==============================] - 180s 359ms/step - loss: 0.2554 - val_loss: 0.2661\n",
      "Epoch 6/40\n",
      "500/500 [==============================] - 179s 359ms/step - loss: 0.2505 - val_loss: 0.2707\n",
      "Epoch 7/40\n",
      "500/500 [==============================] - 179s 358ms/step - loss: 0.2433 - val_loss: 0.2704\n",
      "Epoch 8/40\n",
      "500/500 [==============================] - 179s 358ms/step - loss: 0.2375 - val_loss: 0.2763\n",
      "Epoch 9/40\n",
      "500/500 [==============================] - 179s 359ms/step - loss: 0.2334 - val_loss: 0.2869\n",
      "Epoch 10/40\n",
      "500/500 [==============================] - 180s 359ms/step - loss: 0.2255 - val_loss: 0.2877\n",
      "Epoch 11/40\n",
      "500/500 [==============================] - 179s 358ms/step - loss: 0.2203 - val_loss: 0.2891\n",
      "Epoch 12/40\n",
      "500/500 [==============================] - 179s 359ms/step - loss: 0.2150 - val_loss: 0.2852\n",
      "Epoch 13/40\n",
      "500/500 [==============================] - 179s 358ms/step - loss: 0.2094 - val_loss: 0.2880\n",
      "Epoch 14/40\n",
      "500/500 [==============================] - 179s 358ms/step - loss: 0.2031 - val_loss: 0.3012\n",
      "Epoch 15/40\n",
      "500/500 [==============================] - 179s 359ms/step - loss: 0.1995 - val_loss: 0.3027\n",
      "Epoch 16/40\n",
      "500/500 [==============================] - 179s 359ms/step - loss: 0.1935 - val_loss: 0.3031\n",
      "Epoch 17/40\n",
      "500/500 [==============================] - 179s 359ms/step - loss: 0.1888 - val_loss: 0.3042\n",
      "Epoch 18/40\n",
      "500/500 [==============================] - 179s 358ms/step - loss: 0.1853 - val_loss: 0.3090\n",
      "Epoch 19/40\n",
      "500/500 [==============================] - 180s 359ms/step - loss: 0.1810 - val_loss: 0.3116\n",
      "Epoch 20/40\n",
      "500/500 [==============================] - 179s 358ms/step - loss: 0.1780 - val_loss: 0.3150\n",
      "Epoch 21/40\n",
      "500/500 [==============================] - 180s 359ms/step - loss: 0.1751 - val_loss: 0.3142\n",
      "Epoch 22/40\n",
      "500/500 [==============================] - 179s 358ms/step - loss: 0.1712 - val_loss: 0.3170\n",
      "Epoch 23/40\n",
      "500/500 [==============================] - 179s 359ms/step - loss: 0.1682 - val_loss: 0.3201\n",
      "Epoch 24/40\n",
      "500/500 [==============================] - 180s 360ms/step - loss: 0.1644 - val_loss: 0.3199\n",
      "Epoch 25/40\n",
      "500/500 [==============================] - 179s 359ms/step - loss: 0.1624 - val_loss: 0.3244\n",
      "Epoch 26/40\n",
      "500/500 [==============================] - 179s 359ms/step - loss: 0.1593 - val_loss: 0.3234\n",
      "Epoch 27/40\n",
      "500/500 [==============================] - 179s 359ms/step - loss: 0.1577 - val_loss: 0.3252\n",
      "Epoch 28/40\n",
      "500/500 [==============================] - 180s 359ms/step - loss: 0.1554 - val_loss: 0.3336\n",
      "Epoch 29/40\n",
      "500/500 [==============================] - 180s 360ms/step - loss: 0.1541 - val_loss: 0.3268\n",
      "Epoch 30/40\n",
      "500/500 [==============================] - 179s 359ms/step - loss: 0.1512 - val_loss: 0.3288\n",
      "Epoch 31/40\n",
      "500/500 [==============================] - 180s 361ms/step - loss: 0.1493 - val_loss: 0.3293\n",
      "Epoch 32/40\n",
      "500/500 [==============================] - 306s 612ms/step - loss: 0.1481 - val_loss: 0.3280\n",
      "Epoch 33/40\n",
      "500/500 [==============================] - 374s 748ms/step - loss: 0.1477 - val_loss: 0.3275\n",
      "Epoch 34/40\n",
      "500/500 [==============================] - 373s 746ms/step - loss: 0.1453 - val_loss: 0.3317\n",
      "Epoch 35/40\n",
      "500/500 [==============================] - 375s 749ms/step - loss: 0.1432 - val_loss: 0.3315\n",
      "Epoch 36/40\n",
      "500/500 [==============================] - 307s 615ms/step - loss: 0.1421 - val_loss: 0.3330\n",
      "Epoch 37/40\n",
      "500/500 [==============================] - 180s 359ms/step - loss: 0.1408 - val_loss: 0.3324\n",
      "Epoch 38/40\n",
      "500/500 [==============================] - 179s 359ms/step - loss: 0.1396 - val_loss: 0.3368\n",
      "Epoch 39/40\n",
      "500/500 [==============================] - 179s 358ms/step - loss: 0.1381 - val_loss: 0.3377\n",
      "Epoch 40/40\n",
      "500/500 [==============================] - 179s 358ms/step - loss: 0.1362 - val_loss: 0.3391\n"
     ]
    }
   ],
   "source": [
    "#bidirectional GRU\n",
    "from keras.models import Sequential\n",
    "from keras import layers\n",
    "from keras.optimizers import RMSprop\n",
    "\n",
    "model_bidirec = Sequential()\n",
    "model_bidirec.add(layers.Bidirectional(layers.GRU(32),input_shape=(None, float_data.shape[-1])))\n",
    "model_bidirec.add(layers.Dense(1))\n",
    "\n",
    "model_bidirec.compile(optimizer=RMSprop(),loss='mae')\n",
    "history_bidirec=model_bidirec.fit_generator(train_gen,\n",
    "                                   steps_per_epoch=500,\n",
    "                                   epochs=40,\n",
    "                                   validation_data=val_gen,\n",
    "                                   validation_steps=val_steps)"
   ]
  },
  {
   "cell_type": "code",
   "execution_count": 61,
   "metadata": {},
   "outputs": [
    {
     "data": {
      "image/png": "[encoded data removed]",
      "text/plain": [
       "<Figure size 432x288 with 1 Axes>"
      ]
     },
     "metadata": {
      "needs_background": "light"
     },
     "output_type": "display_data"
    }
   ],
   "source": [
    "import matplotlib.pyplot as plt\n",
    "loss = history_bidirec.history['loss']\n",
    "val_loss = history_bidirec.history['val_loss']\n",
    "\n",
    "epochs = range(1, len(loss) +1)\n",
    "\n",
    "plt.figure()\n",
    "\n",
    "plt.plot(epochs, loss, 'bo', label='Training loss')\n",
    "plt.plot(epochs, val_loss,'b',label='Validation loss')\n",
    "plt.title('Training and Validation loss')\n",
    "plt.legend()\n",
    "\n",
    "plt.show()"
   ]
  },
  {
   "cell_type": "code",
   "execution_count": 62,
   "metadata": {},
   "outputs": [
    {
     "data": {
      "text/plain": [
       "0.3305623996401987"
      ]
     },
     "execution_count": 62,
     "metadata": {},
     "output_type": "execute_result"
    }
   ],
   "source": [
    "#bidirectional GRU\n",
    "model_bidirec.evaluate_generator(test_gen,steps=test_steps)"
   ]
  },
  {
   "cell_type": "code",
   "execution_count": null,
   "metadata": {},
   "outputs": [],
   "source": []
  }
 ],
 "metadata": {
  "kernelspec": {
   "display_name": "Python 3",
   "language": "python",
   "name": "python3"
  }
 },
 "nbformat": 4,
 "nbformat_minor": 2
}
