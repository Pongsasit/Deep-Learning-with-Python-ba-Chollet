{
 "cells": [
  {
   "cell_type": "code",
   "execution_count": 1,
   "metadata": {},
   "outputs": [
    {
     "name": "stdout",
     "output_type": "stream",
     "text": [
      "['\"Date Time\"', '\"p (mbar)\"', '\"T (degC)\"', '\"Tpot (K)\"', '\"Tdew (degC)\"', '\"rh (%)\"', '\"VPmax (mbar)\"', '\"VPact (mbar)\"', '\"VPdef (mbar)\"', '\"sh (g/kg)\"', '\"H2OC (mmol/mol)\"', '\"rho (g/m**3)\"', '\"wv (m/s)\"', '\"max. wv (m/s)\"', '\"wd (deg)\"']\n",
      "420551\n"
     ]
    }
   ],
   "source": [
    "import os\n",
    "data_dir = 'C:/Users/pongsasit/Desktop/code/jena_climate'\n",
    "fname = os.path.join(data_dir,'jena_climate_2009_2016.csv')\n",
    "\n",
    "\n",
    "f = open(fname)\n",
    "data = f.read()\n",
    "f.close()\n",
    "\n",
    "lines = data.split('\\n')\n",
    "header = lines[0].split(',')\n",
    "lines = lines[1:]\n",
    "\n",
    "print(header)\n",
    "print(len(lines))\n",
    "\n",
    "\n",
    "#parsing the data\n",
    "import numpy as np\n",
    "\n",
    "float_data = np.zeros((len(lines), len(header)-1))\n",
    "for i, line in enumerate(lines):\n",
    "    values = [float(x) for x in line.split(',')[1:]]\n",
    "    float_data[i,:] = values"
   ]
  },
  {
   "cell_type": "code",
   "execution_count": 2,
   "metadata": {},
   "outputs": [],
   "source": [
    "mean = float_data[:200000].mean(axis=0)\n",
    "float_data -= mean\n",
    "\n",
    "std = float_data[:200000].std(axis=0)\n",
    "float_data /= std"
   ]
  },
  {
   "cell_type": "code",
   "execution_count": 3,
   "metadata": {},
   "outputs": [],
   "source": [
    "def generator(data_1, lookback, delay, min_index, max_index,\n",
    "             shuffle=False, batch_size=128, step=6):\n",
    "    if max_index is None:\n",
    "        max_index = len(data) - delay - 1\n",
    "    i = min_index + lookback\n",
    "    while 1:\n",
    "        if shuffle:\n",
    "            rows = np.random.randint(\n",
    "            min_index + lookback, max_index, size=batch_size)\n",
    "        else:\n",
    "            if i + batch_size >= max_index:\n",
    "                i = min_index + lookback\n",
    "            rows = np.arange(i, min(i+ batch_size, max_index))\n",
    "            i += len(rows)\n",
    "        samples = np.zeros((len(rows),\n",
    "                           lookback//step,\n",
    "                           data_1.shape[-1]))\n",
    "        targets = np.zeros((len(rows),))\n",
    "        for j, row in enumerate(rows):\n",
    "            indices = range(rows[j] - lookback, rows[j], step)\n",
    "            samples[j] = data_1[indices]\n",
    "            targets[j] = data_1[rows[j] + delay][1]\n",
    "        yield samples[:, ::-1, :], targets"
   ]
  },
  {
   "cell_type": "code",
   "execution_count": 4,
   "metadata": {},
   "outputs": [],
   "source": [
    "#data_1 = original array\n",
    "#lookback = how many timestep that we want to look back\n",
    "#delay = how many timesteps in the future the target should be\n",
    "#min_index max_index indice the data_1 array \n",
    "#shuffle draw data in chronological order\n",
    "#batch_size = the number of samples per batch\n",
    "#step= period\n",
    "lookback = 1440\n",
    "step = 6\n",
    "delay = 144\n",
    "batch_size = 128"
   ]
  },
  {
   "cell_type": "code",
   "execution_count": 5,
   "metadata": {},
   "outputs": [],
   "source": [
    "#train, validation, test\n",
    "train_gen = generator(float_data,lookback=lookback,\n",
    "                     delay=delay,\n",
    "                     min_index=0,\n",
    "                     max_index=200000,\n",
    "                     shuffle=True,\n",
    "                     step=step,\n",
    "                     batch_size= batch_size)\n",
    "val_gen = generator(float_data,\n",
    "                   lookback=lookback,\n",
    "                   delay=delay,\n",
    "                   min_index=200001,\n",
    "                   max_index = 300000,\n",
    "                   step=step,\n",
    "                   batch_size=batch_size)\n",
    "test_gen = generator(float_data,\n",
    "                   lookback=lookback,\n",
    "                   delay=delay,\n",
    "                   min_index=300001,\n",
    "                   max_index = None,\n",
    "                   step=step,\n",
    "                   batch_size=batch_size)\n",
    "\n",
    "val_steps = (300000-200001-lookback) // batch_size\n",
    "test_steps =(len(float_data)-300001-lookback)//batch_size"
   ]
  },
  {
   "cell_type": "code",
   "execution_count": 6,
   "metadata": {},
   "outputs": [
    {
     "name": "stderr",
     "output_type": "stream",
     "text": [
      "Using TensorFlow backend.\n"
     ]
    },
    {
     "name": "stdout",
     "output_type": "stream",
     "text": [
      "WARNING:tensorflow:From C:\\Users\\pongsasit\\Anaconda3\\lib\\site-packages\\tensorflow\\python\\framework\\op_def_library.py:263: colocate_with (from tensorflow.python.framework.ops) is deprecated and will be removed in a future version.\n",
      "Instructions for updating:\n",
      "Colocations handled automatically by placer.\n",
      "_________________________________________________________________\n",
      "Layer (type)                 Output Shape              Param #   \n",
      "=================================================================\n",
      "conv1d_1 (Conv1D)            (None, None, 32)          2272      \n",
      "_________________________________________________________________\n",
      "max_pooling1d_1 (MaxPooling1 (None, None, 32)          0         \n",
      "_________________________________________________________________\n",
      "conv1d_2 (Conv1D)            (None, None, 32)          5152      \n",
      "_________________________________________________________________\n",
      "global_max_pooling1d_1 (Glob (None, 32)                0         \n",
      "_________________________________________________________________\n",
      "dense_1 (Dense)              (None, 1)                 33        \n",
      "=================================================================\n",
      "Total params: 7,457\n",
      "Trainable params: 7,457\n",
      "Non-trainable params: 0\n",
      "_________________________________________________________________\n",
      "WARNING:tensorflow:From C:\\Users\\pongsasit\\Anaconda3\\lib\\site-packages\\tensorflow\\python\\ops\\math_ops.py:3066: to_int32 (from tensorflow.python.ops.math_ops) is deprecated and will be removed in a future version.\n",
      "Instructions for updating:\n",
      "Use tf.cast instead.\n",
      "WARNING:tensorflow:From C:\\Users\\pongsasit\\Anaconda3\\lib\\site-packages\\tensorflow\\python\\ops\\math_grad.py:102: div (from tensorflow.python.ops.math_ops) is deprecated and will be removed in a future version.\n",
      "Instructions for updating:\n",
      "Deprecated in favor of operator or tf.math.divide.\n",
      "Epoch 1/20\n",
      "500/500 [==============================] - 42s 84ms/step - loss: 0.4506 - val_loss: 0.4888\n",
      "Epoch 2/20\n",
      "500/500 [==============================] - 42s 83ms/step - loss: 0.3975 - val_loss: 0.4574\n",
      "Epoch 3/20\n",
      "500/500 [==============================] - 42s 83ms/step - loss: 0.3830 - val_loss: 0.4633\n",
      "Epoch 4/20\n",
      "500/500 [==============================] - 41s 83ms/step - loss: 0.3684 - val_loss: 0.4474\n",
      "Epoch 5/20\n",
      "500/500 [==============================] - 42s 83ms/step - loss: 0.3581 - val_loss: 0.4443\n",
      "Epoch 6/20\n",
      "500/500 [==============================] - 42s 83ms/step - loss: 0.3522 - val_loss: 0.4664\n",
      "Epoch 7/20\n",
      "500/500 [==============================] - 42s 84ms/step - loss: 0.3483 - val_loss: 0.4455\n",
      "Epoch 8/20\n",
      "500/500 [==============================] - 42s 83ms/step - loss: 0.3415 - val_loss: 0.4694\n",
      "Epoch 9/20\n",
      "500/500 [==============================] - 42s 84ms/step - loss: 0.3369 - val_loss: 0.4744\n",
      "Epoch 10/20\n",
      "500/500 [==============================] - 42s 84ms/step - loss: 0.3338 - val_loss: 0.4605\n",
      "Epoch 11/20\n",
      "500/500 [==============================] - 42s 83ms/step - loss: 0.3298 - val_loss: 0.4503\n",
      "Epoch 12/20\n",
      "500/500 [==============================] - 42s 83ms/step - loss: 0.3263 - val_loss: 0.4593\n",
      "Epoch 13/20\n",
      "500/500 [==============================] - 42s 84ms/step - loss: 0.3222 - val_loss: 0.4554\n",
      "Epoch 14/20\n",
      "500/500 [==============================] - 42s 84ms/step - loss: 0.3212 - val_loss: 0.4629\n",
      "Epoch 15/20\n",
      "500/500 [==============================] - 42s 83ms/step - loss: 0.3160 - val_loss: 0.4732\n",
      "Epoch 16/20\n",
      "500/500 [==============================] - 42s 84ms/step - loss: 0.3136 - val_loss: 0.4687\n",
      "Epoch 17/20\n",
      "500/500 [==============================] - 42s 83ms/step - loss: 0.3124 - val_loss: 0.4781\n",
      "Epoch 18/20\n",
      "500/500 [==============================] - 42s 83ms/step - loss: 0.3125 - val_loss: 0.4692\n",
      "Epoch 19/20\n",
      "500/500 [==============================] - 42s 83ms/step - loss: 0.3090 - val_loss: 0.4783\n",
      "Epoch 20/20\n",
      "500/500 [==============================] - 42s 84ms/step - loss: 0.3073 - val_loss: 0.4589\n"
     ]
    }
   ],
   "source": [
    "#Training and evaluating a simple 1D convnet on the Jena data\n",
    "from keras.models import Sequential\n",
    "from keras import layers\n",
    "from keras.layers import Conv1D\n",
    "from keras.optimizers import RMSprop\n",
    "\n",
    "model= Sequential()\n",
    "model.add(layers.Conv1D(32, 5, activation='relu',\n",
    "                       input_shape=(None, float_data.shape[-1])))\n",
    "model.add(layers.MaxPooling1D(3))\n",
    "model.add(layers.Conv1D(32, 5, activation='relu'))\n",
    "model.add(layers.GlobalMaxPooling1D())\n",
    "model.add(layers.Dense(1))\n",
    "\n",
    "model.summary()\n",
    "\n",
    "model.compile(optimizer = RMSprop(),loss = 'mae')\n",
    "history = model.fit_generator(train_gen,\n",
    "                    steps_per_epoch=500,\n",
    "                   epochs=20,\n",
    "                   validation_data=val_gen,\n",
    "                   validation_steps=val_steps)"
   ]
  },
  {
   "cell_type": "code",
   "execution_count": 8,
   "metadata": {},
   "outputs": [
    {
     "data": {
      "image/png": "[encoded data removed]",
      "text/plain": [
       "<Figure size 432x288 with 1 Axes>"
      ]
     },
     "metadata": {
      "needs_background": "light"
     },
     "output_type": "display_data"
    }
   ],
   "source": [
    "import matplotlib.pyplot as plt\n",
    "loss = history.history['loss']\n",
    "val_loss = history.history['val_loss']\n",
    "\n",
    "epochs = range(1, len(loss) +1)\n",
    "\n",
    "plt.figure()\n",
    "\n",
    "plt.plot(epochs, loss, 'bo', label='Training loss')\n",
    "plt.plot(epochs, val_loss,'b',label='Validation loss')\n",
    "plt.title('Training and Validation loss')\n",
    "plt.legend()\n",
    "\n",
    "plt.show()"
   ]
  },
  {
   "cell_type": "code",
   "execution_count": 11,
   "metadata": {},
   "outputs": [],
   "source": [
    "#higher-resolution\n",
    "#preparing higher-resolution data generators for the Jena dataset\n",
    "step = 3\n",
    "lookback = 720\n",
    "delay = 144\n",
    "\n",
    "train_gen = generator(float_data,lookback=lookback,\n",
    "                     delay=delay,\n",
    "                     min_index=0,\n",
    "                     max_index=200000,\n",
    "                     shuffle=True,\n",
    "                     step=step)\n",
    "val_gen = generator(float_data,\n",
    "                   lookback=lookback,\n",
    "                   delay=delay,\n",
    "                   min_index=200001,\n",
    "                   max_index = 300000,\n",
    "                   step=step)\n",
    "test_gen = generator(float_data,\n",
    "                   lookback=lookback,\n",
    "                   delay=delay,\n",
    "                   min_index=300001,\n",
    "                   max_index = None,\n",
    "                   step=step)\n",
    "\n",
    "val_steps = (300000-200001-lookback) // batch_size\n",
    "test_steps =(len(float_data)-300001-lookback)//batch_size"
   ]
  },
  {
   "cell_type": "code",
   "execution_count": 12,
   "metadata": {},
   "outputs": [
    {
     "name": "stdout",
     "output_type": "stream",
     "text": [
      "WARNING:tensorflow:From C:\\Users\\pongsasit\\Anaconda3\\lib\\site-packages\\keras\\backend\\tensorflow_backend.py:3445: calling dropout (from tensorflow.python.ops.nn_ops) with keep_prob is deprecated and will be removed in a future version.\n",
      "Instructions for updating:\n",
      "Please use `rate` instead of `keep_prob`. Rate should be set to `rate = 1 - keep_prob`.\n",
      "_________________________________________________________________\n",
      "Layer (type)                 Output Shape              Param #   \n",
      "=================================================================\n",
      "conv1d_1 (Conv1D)            (None, None, 32)          2272      \n",
      "_________________________________________________________________\n",
      "max_pooling1d_1 (MaxPooling1 (None, None, 32)          0         \n",
      "_________________________________________________________________\n",
      "conv1d_2 (Conv1D)            (None, None, 32)          5152      \n",
      "_________________________________________________________________\n",
      "global_max_pooling1d_1 (Glob (None, 32)                0         \n",
      "_________________________________________________________________\n",
      "dense_1 (Dense)              (None, 1)                 33        \n",
      "_________________________________________________________________\n",
      "dense_2 (Dense)              (None, 1)                 2         \n",
      "=================================================================\n",
      "Total params: 7,457\n",
      "Trainable params: 7,457\n",
      "Non-trainable params: 0\n",
      "_________________________________________________________________\n"
     ]
    },
    {
     "name": "stderr",
     "output_type": "stream",
     "text": [
      "C:\\Users\\pongsasit\\Anaconda3\\lib\\site-packages\\keras\\engine\\training.py:490: UserWarning: Discrepancy between trainable weights and collected trainable weights, did you set `model.trainable` without calling `model.compile` after ?\n",
      "  'Discrepancy between trainable weights and collected trainable'\n"
     ]
    },
    {
     "name": "stdout",
     "output_type": "stream",
     "text": [
      "Epoch 1/20\n",
      "500/500 [==============================] - 42s 85ms/step - loss: 0.4158 - val_loss: 0.4324\n",
      "Epoch 2/20\n",
      "500/500 [==============================] - 42s 83ms/step - loss: 0.3769 - val_loss: 0.4475\n",
      "Epoch 3/20\n",
      "500/500 [==============================] - 42s 84ms/step - loss: 0.3606 - val_loss: 0.4592\n",
      "Epoch 4/20\n",
      "500/500 [==============================] - 42s 83ms/step - loss: 0.3519 - val_loss: 0.4568\n",
      "Epoch 5/20\n",
      "500/500 [==============================] - 42s 84ms/step - loss: 0.3405 - val_loss: 0.4547\n",
      "Epoch 6/20\n",
      "500/500 [==============================] - 42s 83ms/step - loss: 0.3359 - val_loss: 0.4729\n",
      "Epoch 7/20\n",
      "500/500 [==============================] - 42s 83ms/step - loss: 0.3316 - val_loss: 0.4634\n",
      "Epoch 8/20\n",
      "500/500 [==============================] - 42s 83ms/step - loss: 0.3263 - val_loss: 0.4668\n",
      "Epoch 9/20\n",
      "500/500 [==============================] - 42s 84ms/step - loss: 0.3236 - val_loss: 0.4796\n",
      "Epoch 10/20\n",
      "500/500 [==============================] - 42s 84ms/step - loss: 0.3195 - val_loss: 0.4865\n",
      "Epoch 11/20\n",
      "500/500 [==============================] - 42s 84ms/step - loss: 0.3143 - val_loss: 0.4624\n",
      "Epoch 12/20\n",
      "500/500 [==============================] - 42s 84ms/step - loss: 0.3143 - val_loss: 0.4674\n",
      "Epoch 13/20\n",
      "500/500 [==============================] - 42s 84ms/step - loss: 0.3104 - val_loss: 0.4699\n",
      "Epoch 14/20\n",
      "500/500 [==============================] - 42s 84ms/step - loss: 0.3047 - val_loss: 0.4753\n",
      "Epoch 15/20\n",
      "500/500 [==============================] - 42s 84ms/step - loss: 0.3047 - val_loss: 0.4795\n",
      "Epoch 16/20\n",
      "500/500 [==============================] - 42s 84ms/step - loss: 0.3023 - val_loss: 0.4689\n",
      "Epoch 17/20\n",
      "500/500 [==============================] - 42s 84ms/step - loss: 0.3006 - val_loss: 0.5053\n",
      "Epoch 18/20\n",
      "500/500 [==============================] - 42s 84ms/step - loss: 0.2980 - val_loss: 0.4742\n",
      "Epoch 19/20\n",
      "500/500 [==============================] - 42s 84ms/step - loss: 0.2960 - val_loss: 0.4790\n",
      "Epoch 20/20\n",
      "500/500 [==============================] - 42s 84ms/step - loss: 0.2967 - val_loss: 0.4763\n"
     ]
    }
   ],
   "source": [
    "from keras.models import Sequential\n",
    "from keras import layers\n",
    "from keras.layers import Conv1D\n",
    "from keras.optimizers import RMSprop\n",
    "\n",
    "model_GRU = Sequential()\n",
    "model_GRU.add(layers.Conv1D(32, 5, activation='relu',\n",
    "                           input_shape=(None, float_data.shape[-1])))\n",
    "model_GRU.add(layers.MaxPooling1D(3))\n",
    "model_GRU.add(layers.Conv1D(32, 5, activation='relu'))\n",
    "model_GRU.add(layers.GRU(32, dropout=0.1, recurrent_dropout=0.5))\n",
    "model.add(layers.Dense(1))\n",
    "\n",
    "model.summary()\n",
    "\n",
    "model.compile(optimizer=RMSprop(),loss='mae')\n",
    "\n",
    "history = model.fit_generator(train_gen,\n",
    "                             steps_per_epoch=500,\n",
    "                             epochs=20,\n",
    "                             validation_data=val_gen,\n",
    "                             validation_steps=val_steps)"
   ]
  },
  {
   "cell_type": "code",
   "execution_count": 13,
   "metadata": {},
   "outputs": [
    {
     "data": {
      "image/png": "[encoded data removed]",
      "text/plain": [
       "<Figure size 432x288 with 1 Axes>"
      ]
     },
     "metadata": {
      "needs_background": "light"
     },
     "output_type": "display_data"
    }
   ],
   "source": [
    "import matplotlib.pyplot as plt\n",
    "loss = history.history['loss']\n",
    "val_loss = history.history['val_loss']\n",
    "\n",
    "epochs = range(1, len(loss) +1)\n",
    "\n",
    "plt.figure()\n",
    "\n",
    "plt.plot(epochs, loss, 'bo', label='Training loss')\n",
    "plt.plot(epochs, val_loss,'b',label='Validation loss')\n",
    "plt.title('Training and Validation loss')\n",
    "plt.legend()\n",
    "\n",
    "plt.show()"
   ]
  },
  {
   "cell_type": "code",
   "execution_count": null,
   "metadata": {},
   "outputs": [],
   "source": [
    "#FASTER than using pure GRU but more loss"
   ]
  },
  {
   "cell_type": "code",
   "execution_count": null,
   "metadata": {},
   "outputs": [],
   "source": []
  }
 ],
 "metadata": {
  "kernelspec": {
   "display_name": "Python 3",
   "language": "python",
   "name": "python3"
  },
  "language_info": {
   "codemirror_mode": {
    "name": "ipython",
    "version": 3
   },
   "file_extension": ".py",
   "mimetype": "text/x-python",
   "name": "python",
   "nbconvert_exporter": "python",
   "pygments_lexer": "ipython3",
   "version": "3.7.1"
  }
 },
 "nbformat": 4,
 "nbformat_minor": 2
}
