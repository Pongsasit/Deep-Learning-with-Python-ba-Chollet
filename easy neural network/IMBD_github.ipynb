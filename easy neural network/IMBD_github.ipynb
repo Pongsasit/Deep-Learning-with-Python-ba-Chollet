{
 "cells": [
  {
   "cell_type": "code",
   "execution_count": 1,
   "metadata": {},
   "outputs": [
    {
     "name": "stderr",
     "output_type": "stream",
     "text": [
      "Using TensorFlow backend.\n"
     ]
    }
   ],
   "source": [
    "import tensorflow as tf\n",
    "from keras.datasets import imdb"
   ]
  },
  {
   "cell_type": "code",
   "execution_count": 2,
   "metadata": {},
   "outputs": [],
   "source": [
    "(train_data,train_labels),(test_data,test_labels) = imdb.load_data(num_words=10000)"
   ]
  },
  {
   "cell_type": "code",
   "execution_count": 7,
   "metadata": {},
   "outputs": [
    {
     "name": "stdout",
     "output_type": "stream",
     "text": [
      "this is data of the first movie: [1, 14, 22, 16, 43, 530, 973, 1622, 1385, 65, 458, 4468, 66, 3941, 4, 173, 36, 256, 5, 25, 100, 43, 838, 112, 50, 670, 2, 9, 35, 480, 284, 5, 150, 4, 172, 112, 167, 2, 336, 385, 39, 4, 172, 4536, 1111, 17, 546, 38, 13, 447, 4, 192, 50, 16, 6, 147, 2025, 19, 14, 22, 4, 1920, 4613, 469, 4, 22, 71, 87, 12, 16, 43, 530, 38, 76, 15, 13, 1247, 4, 22, 17, 515, 17, 12, 16, 626, 18, 2, 5, 62, 386, 12, 8, 316, 8, 106, 5, 4, 2223, 5244, 16, 480, 66, 3785, 33, 4, 130, 12, 16, 38, 619, 5, 25, 124, 51, 36, 135, 48, 25, 1415, 33, 6, 22, 12, 215, 28, 77, 52, 5, 14, 407, 16, 82, 2, 8, 4, 107, 117, 5952, 15, 256, 4, 2, 7, 3766, 5, 723, 36, 71, 43, 530, 476, 26, 400, 317, 46, 7, 4, 2, 1029, 13, 104, 88, 4, 381, 15, 297, 98, 32, 2071, 56, 26, 141, 6, 194, 7486, 18, 4, 226, 22, 21, 134, 476, 26, 480, 5, 144, 30, 5535, 18, 51, 36, 28, 224, 92, 25, 104, 4, 226, 65, 16, 38, 1334, 88, 12, 16, 283, 5, 16, 4472, 113, 103, 32, 15, 16, 5345, 19, 178, 32]\n",
      "this is label of the first movie 1\n"
     ]
    }
   ],
   "source": [
    "print(\"this is data of the first movie:\",train_data[0])\n",
    "\n",
    "\n",
    "print(\"this is label of the first movie\",train_labels[0])\n"
   ]
  },
  {
   "cell_type": "code",
   "execution_count": 8,
   "metadata": {},
   "outputs": [],
   "source": [
    "#The numbers above can convert to word like this\n",
    "word_index = imdb.get_word_index()\n",
    "reverse_word_index = dict(\n",
    "    [(value,key) for (key, value) in word_index.items()])\n",
    "decode_review =' '.join(\n",
    "    [reverse_word_index.get(i-3,'?')for i in train_data[0]])"
   ]
  },
  {
   "cell_type": "code",
   "execution_count": 21,
   "metadata": {},
   "outputs": [
    {
     "data": {
      "text/plain": [
       "'the'"
      ]
     },
     "execution_count": 21,
     "metadata": {},
     "output_type": "execute_result"
    }
   ],
   "source": [
    "reverse_word_index[1]"
   ]
  },
  {
   "cell_type": "code",
   "execution_count": 16,
   "metadata": {},
   "outputs": [],
   "source": [
    "#preparing the data\n",
    "#encodin the integer sequence in to a binary matrix\n",
    "import numpy as np\n",
    "\n",
    "def vectorize_sequences(sequences,dimension=10000):\n",
    "    results = np.zeros((len(sequences),dimension))\n",
    "    for i, sequence in enumerate(sequences):\n",
    "        results[i,sequence]=1.\n",
    "    return results\n"
   ]
  },
  {
   "cell_type": "code",
   "execution_count": 17,
   "metadata": {},
   "outputs": [],
   "source": [
    "x_train = vectorize_sequences(train_data)\n",
    "x_test = vectorize_sequences(test_data)"
   ]
  },
  {
   "cell_type": "code",
   "execution_count": 18,
   "metadata": {},
   "outputs": [
    {
     "data": {
      "text/plain": [
       "array([0., 1., 1., ..., 0., 0., 0.])"
      ]
     },
     "execution_count": 18,
     "metadata": {},
     "output_type": "execute_result"
    }
   ],
   "source": [
    "x_train[0]"
   ]
  },
  {
   "cell_type": "code",
   "execution_count": 19,
   "metadata": {},
   "outputs": [],
   "source": [
    "y_train = np.asarray(train_labels).astype('float32')\n",
    "y_test = np.asarray(test_labels).astype('float32')"
   ]
  },
  {
   "cell_type": "code",
   "execution_count": 20,
   "metadata": {},
   "outputs": [
    {
     "data": {
      "text/plain": [
       "0.0"
      ]
     },
     "execution_count": 20,
     "metadata": {},
     "output_type": "execute_result"
    }
   ],
   "source": [
    "y_train[1]"
   ]
  },
  {
   "cell_type": "code",
   "execution_count": 22,
   "metadata": {},
   "outputs": [
    {
     "name": "stdout",
     "output_type": "stream",
     "text": [
      "WARNING:tensorflow:From C:\\Users\\pongsasit\\Anaconda3\\lib\\site-packages\\tensorflow\\python\\framework\\op_def_library.py:263: colocate_with (from tensorflow.python.framework.ops) is deprecated and will be removed in a future version.\n",
      "Instructions for updating:\n",
      "Colocations handled automatically by placer.\n"
     ]
    }
   ],
   "source": [
    "#Building Neural Network using keras\n",
    "\n",
    "from keras import models\n",
    "from keras import layers\n",
    "\n",
    "model = models.Sequential()\n",
    "model.add(layers.Dense(16,activation = 'relu',input_shape=(10000,)))\n",
    "model.add(layers.Dense(16,activation='relu'))\n",
    "model.add(layers.Dense(16,activation='tanh'))\n",
    "model.add(layers.Dense(1,activation='sigmoid'))"
   ]
  },
  {
   "cell_type": "code",
   "execution_count": 23,
   "metadata": {},
   "outputs": [],
   "source": [
    "#Use this oppimizer and loss function to train model\n",
    "model.compile(optimizer='rmsprop',\n",
    "              loss = 'mse',\n",
    "              metrics =['accuracy'])"
   ]
  },
  {
   "cell_type": "code",
   "execution_count": 24,
   "metadata": {},
   "outputs": [],
   "source": [
    "#set train and test model\n",
    "x_val = x_train[:10000]\n",
    "partial_x_train =x_train[10000:]\n",
    "y_val = y_train[:10000]\n",
    "partial_y_train = y_train[10000:]"
   ]
  },
  {
   "cell_type": "code",
   "execution_count": 28,
   "metadata": {},
   "outputs": [
    {
     "name": "stdout",
     "output_type": "stream",
     "text": [
      "Train on 15000 samples, validate on 10000 samples\n",
      "Epoch 1/20\n",
      "15000/15000 [==============================] - 3s 179us/step - loss: 0.0209 - acc: 0.9787 - val_loss: 0.0938 - val_acc: 0.8750\n",
      "Epoch 2/20\n",
      "15000/15000 [==============================] - 3s 178us/step - loss: 0.0159 - acc: 0.9831 - val_loss: 0.0957 - val_acc: 0.8758\n",
      "Epoch 3/20\n",
      "15000/15000 [==============================] - 3s 178us/step - loss: 0.0131 - acc: 0.9859 - val_loss: 0.0987 - val_acc: 0.8755\n",
      "Epoch 4/20\n",
      "15000/15000 [==============================] - 3s 178us/step - loss: 0.0076 - acc: 0.9933 - val_loss: 0.1082 - val_acc: 0.8686\n",
      "Epoch 5/20\n",
      "15000/15000 [==============================] - 3s 179us/step - loss: 0.0108 - acc: 0.9877 - val_loss: 0.1028 - val_acc: 0.8726\n",
      "Epoch 6/20\n",
      "15000/15000 [==============================] - 3s 179us/step - loss: 0.0048 - acc: 0.9954 - val_loss: 0.1047 - val_acc: 0.8719\n",
      "Epoch 7/20\n",
      "15000/15000 [==============================] - 3s 178us/step - loss: 0.0081 - acc: 0.9913 - val_loss: 0.1070 - val_acc: 0.8713\n",
      "Epoch 8/20\n",
      "15000/15000 [==============================] - 3s 177us/step - loss: 0.0033 - acc: 0.9969 - val_loss: 0.1090 - val_acc: 0.8694\n",
      "Epoch 9/20\n",
      "15000/15000 [==============================] - 3s 179us/step - loss: 0.0070 - acc: 0.9919 - val_loss: 0.1115 - val_acc: 0.8697\n",
      "Epoch 10/20\n",
      "15000/15000 [==============================] - 3s 179us/step - loss: 0.0024 - acc: 0.9975 - val_loss: 0.1117 - val_acc: 0.8678\n",
      "Epoch 11/20\n",
      "15000/15000 [==============================] - 3s 177us/step - loss: 0.0021 - acc: 0.9980 - val_loss: 0.1143 - val_acc: 0.8666\n",
      "Epoch 12/20\n",
      "15000/15000 [==============================] - 3s 180us/step - loss: 0.0065 - acc: 0.9923 - val_loss: 0.1151 - val_acc: 0.8644\n",
      "Epoch 13/20\n",
      "15000/15000 [==============================] - 3s 179us/step - loss: 0.0017 - acc: 0.9982 - val_loss: 0.1157 - val_acc: 0.8660\n",
      "Epoch 14/20\n",
      "15000/15000 [==============================] - 3s 179us/step - loss: 0.0016 - acc: 0.9984 - val_loss: 0.1168 - val_acc: 0.8659\n",
      "Epoch 15/20\n",
      "15000/15000 [==============================] - 3s 179us/step - loss: 0.0062 - acc: 0.9921 - val_loss: 0.1176 - val_acc: 0.8636\n",
      "Epoch 16/20\n",
      "15000/15000 [==============================] - 3s 179us/step - loss: 0.0013 - acc: 0.9987 - val_loss: 0.1176 - val_acc: 0.8632\n",
      "Epoch 17/20\n",
      "15000/15000 [==============================] - 3s 177us/step - loss: 0.0012 - acc: 0.9987 - val_loss: 0.1179 - val_acc: 0.8633\n",
      "Epoch 18/20\n",
      "15000/15000 [==============================] - 3s 180us/step - loss: 0.0011 - acc: 0.9989 - val_loss: 0.1188 - val_acc: 0.8627\n",
      "Epoch 19/20\n",
      "15000/15000 [==============================] - 3s 179us/step - loss: 0.0056 - acc: 0.9935 - val_loss: 0.1192 - val_acc: 0.8638\n",
      "Epoch 20/20\n",
      "15000/15000 [==============================] - 3s 178us/step - loss: 8.8369e-04 - acc: 0.9990 - val_loss: 0.1188 - val_acc: 0.8645\n"
     ]
    }
   ],
   "source": [
    "#start train this model model.fit\n",
    "history = model.fit(partial_x_train,partial_y_train,\n",
    "                    epochs=20,batch_size=512,validation_data=(x_val,y_val))\n"
   ]
  },
  {
   "cell_type": "code",
   "execution_count": 29,
   "metadata": {},
   "outputs": [
    {
     "data": {
      "image/png": "[encoded data removed]",
      "text/plain": [
       "<Figure size 432x288 with 1 Axes>"
      ]
     },
     "metadata": {
      "needs_background": "light"
     },
     "output_type": "display_data"
    }
   ],
   "source": [
    "#Show how this model fit.\n",
    "#How over or under fitting\n",
    "import matplotlib.pyplot as plt\n",
    "\n",
    "history_dict = history.history\n",
    "loss_values = history_dict['loss']\n",
    "val_loss_values = history_dict['val_loss']\n",
    "\n",
    "epochs = range(1,len(loss_values)+1)\n",
    "\n",
    "plt.plot(epochs,loss_values,'bo',label='Training loss')\n",
    "plt.plot(epochs,val_loss_values,'b',label='Validation loss')\n",
    "plt.title('Training loss and Validation loss')\n",
    "plt.xlabel('EPOCHS')\n",
    "plt.ylabel('LOSS')\n",
    "plt.legend()\n",
    "\n",
    "plt.show()"
   ]
  },
  {
   "cell_type": "code",
   "execution_count": 30,
   "metadata": {},
   "outputs": [
    {
     "data": {
      "image/png": "[encoded data removed]",
      "text/plain": [
       "<Figure size 432x288 with 1 Axes>"
      ]
     },
     "metadata": {
      "needs_background": "light"
     },
     "output_type": "display_data"
    }
   ],
   "source": [
    "#Show the acuuracy\n",
    "acc = history_dict['acc']\n",
    "val_acc = history_dict['val_acc']\n",
    "\n",
    "epochs = range(1,len(loss_values)+1)\n",
    "\n",
    "plt.plot(epochs,acc,'bo',label='Training acc')\n",
    "plt.plot(epochs,val_acc,'b',label='Validation acc')\n",
    "plt.title('Training loss and Validation loss')\n",
    "plt.xlabel('EPOCHS')\n",
    "plt.ylabel('ACCURACY')\n",
    "plt.legend()\n",
    "\n",
    "plt.show()"
   ]
  },
  {
   "cell_type": "code",
   "execution_count": 31,
   "metadata": {},
   "outputs": [
    {
     "name": "stdout",
     "output_type": "stream",
     "text": [
      "25000/25000 [==============================] - 3s 131us/step\n"
     ]
    }
   ],
   "source": [
    "results = model.evaluate(x_test,y_test)"
   ]
  },
  {
   "cell_type": "code",
   "execution_count": 32,
   "metadata": {},
   "outputs": [
    {
     "data": {
      "text/plain": [
       "[0.13216716348469257, 0.84948]"
      ]
     },
     "execution_count": 32,
     "metadata": {},
     "output_type": "execute_result"
    }
   ],
   "source": [
    "results\n",
    "#(loss,accuracy)"
   ]
  },
  {
   "cell_type": "code",
   "execution_count": 34,
   "metadata": {},
   "outputs": [
    {
     "name": "stdout",
     "output_type": "stream",
     "text": [
      "Train on 15000 samples, validate on 10000 samples\n",
      "Epoch 1/4\n",
      "15000/15000 [==============================] - 3s 203us/step - loss: 0.1726 - acc: 0.7767 - val_loss: 0.1292 - val_acc: 0.8517\n",
      "Epoch 2/4\n",
      "15000/15000 [==============================] - 3s 178us/step - loss: 0.0918 - acc: 0.9075 - val_loss: 0.0991 - val_acc: 0.8789\n",
      "Epoch 3/4\n",
      "15000/15000 [==============================] - 3s 178us/step - loss: 0.0664 - acc: 0.9311 - val_loss: 0.0853 - val_acc: 0.8901\n",
      "Epoch 4/4\n",
      "15000/15000 [==============================] - 3s 178us/step - loss: 0.0518 - acc: 0.9449 - val_loss: 0.0865 - val_acc: 0.8850\n"
     ]
    }
   ],
   "source": [
    "#as the graph above From epochs= 4 the model start over fitting\n",
    "#so we train ned model\n",
    "\n",
    "from keras import models\n",
    "from keras import layers\n",
    "\n",
    "model2 = models.Sequential()\n",
    "model2.add(layers.Dense(16,activation = 'relu',input_shape=(10000,)))\n",
    "model2.add(layers.Dense(16,activation='relu'))\n",
    "model2.add(layers.Dense(1,activation='sigmoid'))\n",
    "\n",
    "model2.compile(optimizer='rmsprop',\n",
    "              loss = 'mse',\n",
    "              metrics =['accuracy'])\n",
    "\n",
    "history_2 = model2.fit(partial_x_train,partial_y_train,\n",
    "                    epochs=4,batch_size=512,validation_data=(x_val,y_val))"
   ]
  },
  {
   "cell_type": "code",
   "execution_count": 35,
   "metadata": {},
   "outputs": [
    {
     "name": "stdout",
     "output_type": "stream",
     "text": [
      "25000/25000 [==============================] - 3s 112us/step\n"
     ]
    },
    {
     "data": {
      "text/plain": [
       "[0.09211169433116913, 0.87648]"
      ]
     },
     "execution_count": 35,
     "metadata": {},
     "output_type": "execute_result"
    }
   ],
   "source": [
    "results = model2.evaluate(x_test,y_test)\n",
    "results\n",
    "#The accuracy and loss go down."
   ]
  },
  {
   "cell_type": "code",
   "execution_count": null,
   "metadata": {},
   "outputs": [],
   "source": []
  }
 ],
 "metadata": {
  "kernelspec": {
   "display_name": "Python 3",
   "language": "python",
   "name": "python3"
  },
  "language_info": {
   "codemirror_mode": {
    "name": "ipython",
    "version": 3
   },
   "file_extension": ".py",
   "mimetype": "text/x-python",
   "name": "python",
   "nbconvert_exporter": "python",
   "pygments_lexer": "ipython3",
   "version": "3.7.1"
  }
 },
 "nbformat": 4,
 "nbformat_minor": 2
}
