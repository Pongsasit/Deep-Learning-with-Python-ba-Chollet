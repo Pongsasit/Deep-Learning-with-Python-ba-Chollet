{
 "cells": [
  {
   "cell_type": "code",
   "execution_count": 1,
   "metadata": {},
   "outputs": [],
   "source": [
    "#KERAS w ADVANCE use "
   ]
  },
  {
   "cell_type": "code",
   "execution_count": 2,
   "metadata": {},
   "outputs": [
    {
     "name": "stderr",
     "output_type": "stream",
     "text": [
      "Using TensorFlow backend.\n"
     ]
    },
    {
     "name": "stdout",
     "output_type": "stream",
     "text": [
      "WARNING:tensorflow:From C:\\Users\\pongsasit\\Anaconda3\\lib\\site-packages\\tensorflow\\python\\framework\\op_def_library.py:263: colocate_with (from tensorflow.python.framework.ops) is deprecated and will be removed in a future version.\n",
      "Instructions for updating:\n",
      "Colocations handled automatically by placer.\n",
      "_________________________________________________________________\n",
      "Layer (type)                 Output Shape              Param #   \n",
      "=================================================================\n",
      "input_1 (InputLayer)         (None, 64)                0         \n",
      "_________________________________________________________________\n",
      "dense_1 (Dense)              (None, 32)                2080      \n",
      "_________________________________________________________________\n",
      "dense_2 (Dense)              (None, 32)                1056      \n",
      "_________________________________________________________________\n",
      "dense_3 (Dense)              (None, 10)                330       \n",
      "=================================================================\n",
      "Total params: 3,466\n",
      "Trainable params: 3,466\n",
      "Non-trainable params: 0\n",
      "_________________________________________________________________\n"
     ]
    }
   ],
   "source": [
    "#Functional API compare w Sequential model\n",
    "from keras.models import Model\n",
    "from keras import Input, layers\n",
    "input_tensor = Input(shape=(64,))\n",
    "dense_1 = layers.Dense(32,activation = 'relu')(input_tensor)\n",
    "dense_2 = layers.Dense(32,activation = 'relu')(dense_1)\n",
    "output_tensor = layers.Dense(10, activation = 'softmax')(dense_2)\n",
    "\n",
    "model1 = Model(input_tensor,output_tensor)\n",
    "model1.summary()"
   ]
  },
  {
   "cell_type": "code",
   "execution_count": 4,
   "metadata": {},
   "outputs": [
    {
     "name": "stdout",
     "output_type": "stream",
     "text": [
      "_________________________________________________________________\n",
      "Layer (type)                 Output Shape              Param #   \n",
      "=================================================================\n",
      "dense_7 (Dense)              (None, 32)                2080      \n",
      "_________________________________________________________________\n",
      "dense_8 (Dense)              (None, 32)                1056      \n",
      "_________________________________________________________________\n",
      "dense_9 (Dense)              (None, 10)                330       \n",
      "=================================================================\n",
      "Total params: 3,466\n",
      "Trainable params: 3,466\n",
      "Non-trainable params: 0\n",
      "_________________________________________________________________\n"
     ]
    }
   ],
   "source": [
    "#sequential model\n",
    "from keras.models import Sequential\n",
    "from keras import layers\n",
    "\n",
    "model2 = Sequential()\n",
    "model2.add(layers.Dense(32, activation = 'relu', input_shape = (64,)))\n",
    "model2.add(layers.Dense(32, activation = 'relu'))\n",
    "model2.add(layers.Dense(10, activation = 'softmax'))\n",
    "\n",
    "model2.summary()"
   ]
  },
  {
   "cell_type": "code",
   "execution_count": 6,
   "metadata": {},
   "outputs": [],
   "source": [
    "#make random numbers\n",
    "\n",
    "import numpy as np\n",
    "x_train = np.random.random((1000,64))\n",
    "y_train = np.random.random((1000,10))"
   ]
  },
  {
   "cell_type": "code",
   "execution_count": 9,
   "metadata": {},
   "outputs": [
    {
     "name": "stdout",
     "output_type": "stream",
     "text": [
      "Epoch 1/10\n",
      "1000/1000 [==============================] - 0s 357us/step - loss: 11.4521\n",
      "Epoch 2/10\n",
      "1000/1000 [==============================] - 0s 16us/step - loss: 11.4465\n",
      "Epoch 3/10\n",
      "1000/1000 [==============================] - 0s 19us/step - loss: 11.4444\n",
      "Epoch 4/10\n",
      "1000/1000 [==============================] - 0s 19us/step - loss: 11.4413\n",
      "Epoch 5/10\n",
      "1000/1000 [==============================] - 0s 18us/step - loss: 11.4394\n",
      "Epoch 6/10\n",
      "1000/1000 [==============================] - 0s 18us/step - loss: 11.4385\n",
      "Epoch 7/10\n",
      "1000/1000 [==============================] - 0s 18us/step - loss: 11.4360\n",
      "Epoch 8/10\n",
      "1000/1000 [==============================] - 0s 17us/step - loss: 11.4340\n",
      "Epoch 9/10\n",
      "1000/1000 [==============================] - 0s 19us/step - loss: 11.4327\n",
      "Epoch 10/10\n",
      "1000/1000 [==============================] - 0s 17us/step - loss: 11.4310\n",
      "1000/1000 [==============================] - 0s 121us/step\n"
     ]
    },
    {
     "data": {
      "text/plain": [
       "11.426965171813965"
      ]
     },
     "execution_count": 9,
     "metadata": {},
     "output_type": "execute_result"
    }
   ],
   "source": [
    "model1.compile(optimizer='rmsprop', loss='categorical_crossentropy')\n",
    "model1.fit(x_train,y_train, epochs = 10, batch_size=128)\n",
    "score1 = model1.evaluate(x_train, y_train)\n",
    "score1"
   ]
  },
  {
   "cell_type": "code",
   "execution_count": 10,
   "metadata": {},
   "outputs": [
    {
     "name": "stdout",
     "output_type": "stream",
     "text": [
      "Epoch 1/10\n",
      "1000/1000 [==============================] - 0s 388us/step - loss: 11.5701\n",
      "Epoch 2/10\n",
      "1000/1000 [==============================] - 0s 18us/step - loss: 11.5128\n",
      "Epoch 3/10\n",
      "1000/1000 [==============================] - 0s 17us/step - loss: 11.4995\n",
      "Epoch 4/10\n",
      "1000/1000 [==============================] - 0s 16us/step - loss: 11.4926\n",
      "Epoch 5/10\n",
      "1000/1000 [==============================] - 0s 17us/step - loss: 11.4880\n",
      "Epoch 6/10\n",
      "1000/1000 [==============================] - 0s 17us/step - loss: 11.4851\n",
      "Epoch 7/10\n",
      "1000/1000 [==============================] - 0s 17us/step - loss: 11.4828\n",
      "Epoch 8/10\n",
      "1000/1000 [==============================] - 0s 17us/step - loss: 11.4812\n",
      "Epoch 9/10\n",
      "1000/1000 [==============================] - 0s 17us/step - loss: 11.4791\n",
      "Epoch 10/10\n",
      "1000/1000 [==============================] - 0s 18us/step - loss: 11.4777\n",
      "1000/1000 [==============================] - 0s 132us/step\n"
     ]
    },
    {
     "data": {
      "text/plain": [
       "11.474587356567383"
      ]
     },
     "execution_count": 10,
     "metadata": {},
     "output_type": "execute_result"
    }
   ],
   "source": [
    "model2.compile(optimizer='rmsprop', loss='categorical_crossentropy')\n",
    "model2.fit(x_train,y_train, epochs = 10, batch_size=128)\n",
    "score2 = model2.evaluate(x_train, y_train)\n",
    "score2"
   ]
  },
  {
   "cell_type": "code",
   "execution_count": 11,
   "metadata": {},
   "outputs": [],
   "source": [
    "#-----------------------------------------------------------------------------------------------------------------------------------#\n",
    "#USE keras API can make more complex model like \n",
    "#1.multi input model, 2.multi output model, 3.Directed acyclic graphs of layers, 4.layer weight sharing, 5.Models as layers"
   ]
  },
  {
   "cell_type": "code",
   "execution_count": 33,
   "metadata": {},
   "outputs": [],
   "source": [
    "##1.multi input model\n",
    "#Functional API implementation of 2 inputs question-answering model\n",
    "\n",
    "from keras.models import Model\n",
    "from keras import layers\n",
    "from keras import Input\n",
    "\n",
    "text_vocabulary_size = 10000\n",
    "question_vocabulary_size = 10000\n",
    "answer_vocabulary_size = 500\n",
    "\n",
    "    #variable length sequence of integers\n",
    "text_input = Input(shape=(None,), dtype = 'int32', name = 'text')\n",
    "    #embedded the inputs into a sequence of vectors of size 64\n",
    "embedded_text = layers.Embedding(\n",
    "    64, text_vocabulary_size)(text_input)\n",
    "    #encodes the vectors in a single vector via LSTM\n",
    "encoded_text = layers.LSTM(32)(embedded_text)\n",
    "\n",
    "question_input = Input(shape=(None,),\n",
    "                       dtype = 'int32',\n",
    "                       name = 'question')\n",
    "embedded_question = layers.Embedding(\n",
    "    32, question_vocabulary_size)(question_input)\n",
    "\n",
    "encoded_question = layers.LSTM(16)(embedded_question)\n",
    "\n",
    "    #連結=concatenate the encoded question and encoded text\n",
    "concatenated = layers.concatenate([encoded_text, encoded_question], \n",
    "                                  axis = -1)\n",
    "    #add softmax to clarify on top\n",
    "answer = layers.Dense(answer_vocabulary_size, \n",
    "                      activation = 'softmax')(concatenated)\n",
    "\n",
    "    #2 inputs, 1 output\n",
    "model = Model([text_input, question_input], answer)\n",
    "model.compile(optimizer='rmsprop',\n",
    "             loss = 'categorical_crossentropy',\n",
    "             metrics = ['acc'])\n",
    "\n",
    "import numpy as np\n",
    "\n",
    "num_samples = 1000\n",
    "max_length = 100\n",
    "\n",
    "text = np.random.randint(1, text_vocabulary_size,\n",
    "                         size=(num_samples, max_length))\n",
    "question = np.random.randint(1, question_vocabulary_size,\n",
    "                             size=(num_samples, max_length))\n",
    "answers = np.random.randint(0, 1,\n",
    "                            size=(num_samples, answer_vocabulary_size))\n",
    "\n",
    "model.fit([text, question], answers, epochs=10, batch_size=128)\n",
    "\n",
    "model.fit({'text': text, 'question': question}, answers,\n",
    "          epochs=10, batch_size=128)"
   ]
  },
  {
   "cell_type": "code",
   "execution_count": 45,
   "metadata": {},
   "outputs": [],
   "source": [
    "#2.multi output model\n",
    "#Functional API implementation of a three-output model\n",
    "\n",
    "from keras import layers\n",
    "from keras import Input\n",
    "from keras.models import Model\n",
    "vocabulary_size = 50000\n",
    "num_income_groups = 10\n",
    "\n",
    "posts_input = Input(shape=(None,), dtype='int32', name='posts')\n",
    "embedded_posts = layers.Embedding(256, vocabulary_size)(posts_input)\n",
    "x = layers.Conv1D(128, 5, activation='relu')(embedded_posts)\n",
    "x = layers.MaxPooling1D(5)(x)\n",
    "x = layers.Conv1D(256, 5, activation='relu')(x)\n",
    "x = layers.Conv1D(256, 5, activation='relu')(x)\n",
    "x = layers.MaxPooling1D(5)(x)\n",
    "x = layers.Conv1D(256, 5, activation='relu')(x)\n",
    "x = layers.Conv1D(256, 5, activation='relu')(x)\n",
    "x = layers.GlobalMaxPooling1D()(x)\n",
    "x = layers.Dense(128, activation='relu')(x)\n",
    "\n",
    "age_prediction = layers.Dense(1, name='age')(x)\n",
    "income_prediction = layers.Dense(num_income_groups,\n",
    "                                 activation='softmax',\n",
    "                                 name='income')(x)\n",
    "gender_prediction = layers.Dense(1, activation='sigmoid', name='gender')(x)\n",
    "\n",
    "model = Model(posts_input,\n",
    "              [age_prediction, income_prediction, gender_prediction])\n",
    "# Compilation options of a multi-output model: multiple losses\n",
    "model.compile(optimizer='rmsprop',\n",
    "              loss=['mse', 'categorical_crossentropy', 'binary_crossentropy'])\n",
    "\n",
    "model.compile(optimizer='rmsprop',\n",
    "              loss={'age': 'mse',\n",
    "                    'income': 'categorical_crossentropy',\n",
    "                    'gender': 'binary_crossentropy'})\n",
    "# Compilation options of a multi-output model: loss weighting\n",
    "model.compile(optimizer='rmsprop',\n",
    "              loss=['mse', 'categorical_crossentropy', 'binary_crossentropy'],\n",
    "              loss_weights=[0.25, 1., 10.])\n",
    "\n",
    "model.compile(optimizer='rmsprop',\n",
    "              loss={'age': 'mse',\n",
    "                    'income': 'categorical_crossentropy',\n",
    "                    'gender': 'binary_crossentropy'},\n",
    "              loss_weights={'age': 0.25,\n",
    "                            'income': 1.,\n",
    "                            'gender': 10.})\n",
    "\n",
    "# Feeding data to a multi-output model\n",
    "model.fit(posts, [age_targets, income_targets, gender_targets],\n",
    "          epochs=10, batch_size=64)\n",
    "\n",
    "model.fit(posts, {'age': age_targets,\n",
    "                  'income': income_targets,\n",
    "                  'gender': gender_targets},\n",
    "          epochs=10, batch_size=64)\n"
   ]
  },
  {
   "cell_type": "code",
   "execution_count": 46,
   "metadata": {},
   "outputs": [],
   "source": [
    "##3.Directed acyclic graphs of layers\n",
    "# 1X1 CONVOLUTIONS\n",
    "from keras import layers\n",
    "branch_a = layers.Conv2D(128, 1,\n",
    "                         activation='relu', strides=2)(x)\n",
    "branch_b = layers.Conv2D(128, 1, activation='relu')(x)\n",
    "branch_b = layers.Conv2D(128, 3, activation='relu', strides=2)(branch_b)\n",
    "\n",
    "branch_c = layers.AveragePooling2D(3, strides=2)(x)\n",
    "branch_c = layers.Conv2D(128, 3, activation='relu')(branch_c)\n",
    "\n",
    "branch_d = layers.Conv2D(128, 1, activation='relu')(x)\n",
    "branch_d = layers.Conv2D(128, 3, activation='relu')(branch_d)\n",
    "branch_d = layers.Conv2D(128, 3, activation='relu', strides=2)(branch_d)\n",
    "output = layers.concatenate(\n",
    "    [branch_a, branch_b, branch_c, branch_d], axis=-1)\n",
    "\n",
    "# RESIDUAL CONNECTION\n",
    "from keras import layers\n",
    "\n",
    "x = ...\n",
    "y = layers.Conv2D(128, 3, activation='relu', padding='same')(x)\n",
    "y = layers.Conv2D(128, 3, activation='relu', padding='same')(y)\n",
    "y = layers.Conv2D(128, 3, activation='relu', padding='same')(y)\n",
    "\n",
    "y = layers.add([y, x])\n",
    "\n",
    "from keras import layers\n",
    "\n",
    "x = ...\n",
    "y = layers.Conv2D(128, 3, activation='relu', padding='same')(x)\n",
    "y = layers.Conv2D(128, 3, activation='relu', padding='same')(y)\n",
    "y = layers.MaxPooling2D(2, strides=2)(y)\n",
    "\n",
    "residual = layers.Conv2D(128, 1, strides=2, padding='same')(x)\n",
    "\n",
    "y = layers.add([y, residual])\n",
    "\n"
   ]
  },
  {
   "cell_type": "code",
   "execution_count": 47,
   "metadata": {},
   "outputs": [],
   "source": [
    "##4.layer weight sharing,\n",
    "from keras import layers\n",
    "from keras import Input\n",
    "from keras.models import Model\n",
    "\n",
    "lstm = layers.LSTM(32)\n",
    "left_input = Input(shape=(None, 128))\n",
    "left_output = lstm(left_input)\n",
    "\n",
    "right_input = Input(shape=(None, 128))\n",
    "right_output = lstm(right_input)\n",
    "\n",
    "merged = layers.concatenate([left_output, right_output], axis=-1)\n",
    "predictions = layers.Dense(1, activation='sigmoid')(merged)\n",
    "\n",
    "model = Model([left_input, right_input], predictions)\n",
    "model.fit([left_data, right_data], targets)"
   ]
  },
  {
   "cell_type": "code",
   "execution_count": null,
   "metadata": {},
   "outputs": [],
   "source": [
    "##5.Models as layers\n",
    "\n",
    "y = model(x)\n",
    "y1, y2 = model([x1, x2])\n",
    "from keras import layers\n",
    "from keras import applications\n",
    "from keras import Input\n",
    "\n",
    "xception_base = applications.Xception(weights=None,\n",
    "                                      include_top=False)\n",
    "\n",
    "left_input = Input(shape=(250, 250, 3))\n",
    "right_input = Input(shape=(250, 250, 3))\n",
    "\n",
    "left_features = xception_base(left_input)\n",
    "right_input = xception_base(right_input)\n",
    "\n",
    "merged_features = layers.concatenate(\n",
    "    [left_features, right_input], axis=-1)"
   ]
  }
 ],
 "metadata": {
  "kernelspec": {
   "display_name": "Python 3",
   "language": "python",
   "name": "python3"
  },
  "language_info": {
   "codemirror_mode": {
    "name": "ipython",
    "version": 3
   },
   "file_extension": ".py",
   "mimetype": "text/x-python",
   "name": "python",
   "nbconvert_exporter": "python",
   "pygments_lexer": "ipython3",
   "version": "3.7.1"
  }
 },
 "nbformat": 4,
 "nbformat_minor": 2
}
